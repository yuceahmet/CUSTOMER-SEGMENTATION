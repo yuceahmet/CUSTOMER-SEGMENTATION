{
 "cells": [
  {
   "cell_type": "markdown",
   "metadata": {},
   "source": [
    "https://medium.com/@yuce.ahmet.tr/exploring-rfm-analysis-methodologies-and-innovative-approaches-360f82fc536b"
   ]
  },
  {
   "cell_type": "markdown",
   "metadata": {
    "toc": true
   },
   "source": [
    "<h1>Table of Contents<span class=\"tocSkip\"></span></h1>\n",
    "<div class=\"toc\"><ul class=\"toc-item\"><li><span><a href=\"#Exploratory-Data-Analysis\" data-toc-modified-id=\"Exploratory-Data-Analysis-1\"><span class=\"toc-item-num\">1&nbsp;&nbsp;</span>Exploratory Data Analysis</a></span></li><li><span><a href=\"#Customer-Segmentation-with-RFM-metrics\" data-toc-modified-id=\"Customer-Segmentation-with-RFM-metrics-2\"><span class=\"toc-item-num\">2&nbsp;&nbsp;</span>Customer Segmentation with RFM metrics</a></span><ul class=\"toc-item\"><li><span><a href=\"#Find-Recency,-Frequency,-Monetary-of-each-Customer\" data-toc-modified-id=\"Find-Recency,-Frequency,-Monetary-of-each-Customer-2.1\"><span class=\"toc-item-num\">2.1&nbsp;&nbsp;</span>Find Recency, Frequency, Monetary of each Customer</a></span></li><li><span><a href=\"#Add-'r_quartile',-'f_quartile',-'m_quartile'-columns-to-the-RFM_Table:\" data-toc-modified-id=\"Add-'r_quartile',-'f_quartile',-'m_quartile'-columns-to-the-RFM_Table:-2.2\"><span class=\"toc-item-num\">2.2&nbsp;&nbsp;</span>Add 'r_quartile', 'f_quartile', 'm_quartile' columns to the RFM_Table:</a></span></li><li><span><a href=\"#Combine-RFM-quartiles-and-add-as-a-new-column-to-the-RFM-Table:\" data-toc-modified-id=\"Combine-RFM-quartiles-and-add-as-a-new-column-to-the-RFM-Table:-2.3\"><span class=\"toc-item-num\">2.3&nbsp;&nbsp;</span>Combine RFM quartiles and add as a new column to the RFM Table:</a></span></li><li><span><a href=\"#Define-Customer-Segments-using-RFM-quartiles\" data-toc-modified-id=\"Define-Customer-Segments-using-RFM-quartiles-2.4\"><span class=\"toc-item-num\">2.4&nbsp;&nbsp;</span>Define Customer Segments using RFM quartiles</a></span></li><li><span><a href=\"#Alternative-code-snippets-for-RFM-Analysis\" data-toc-modified-id=\"Alternative-code-snippets-for-RFM-Analysis-2.5\"><span class=\"toc-item-num\">2.5&nbsp;&nbsp;</span>Alternative code snippets for RFM Analysis</a></span></li></ul></li></ul></div>"
   ]
  },
  {
   "cell_type": "markdown",
   "metadata": {},
   "source": [
    "<p style=\"color: blue; font-weight: bold; font-size: 24px;\">PART I – TRADITIONAL RFM PRACTICES</p>"
   ]
  },
  {
   "cell_type": "raw",
   "metadata": {
    "cell_style": "center"
   },
   "source": [
    "                                                                                             Ahmet YÜCE, December 8, 2023"
   ]
  },
  {
   "cell_type": "markdown",
   "metadata": {
    "ExecuteTime": {
     "end_time": "2023-10-11T13:21:40.559393Z",
     "start_time": "2023-10-11T13:21:40.554067Z"
    }
   },
   "source": [
    "<p style=\"color: red; text-align: center; font-weight: bold; font-size: 24px;\">CUSTOMER SEGMENTATION WITH RFM METRICS</p>\n"
   ]
  },
  {
   "cell_type": "markdown",
   "metadata": {},
   "source": [
    "***The primary goal of RFM analysis*** is to segment customers into distinct groups based on their behaviors and transaction histories. By categorizing customers according to these three metrics, businesses gain valuable insights into varying customer segments:\n",
    "\n",
    "***- Identification of High-Value Customers:*** RFM analysis helps identify and prioritize high-value customers who contribute significantly to the business's revenue streams. These customers often exhibit recent activity, frequent transactions, and substantial monetary contributions.\n",
    "\n",
    "***- Personalized Marketing Strategies:*** Segmentation through RFM analysis enables businesses to tailor marketing strategies and campaigns based on the distinct needs and behaviors of different customer segments. This personalization enhances customer engagement and satisfaction.\n",
    "\n",
    "***- Retention and Loyalty Programs:*** Understanding customer behavior through RFM analysis aids in developing targeted retention and loyalty programs. By recognizing and nurturing loyal customers or re-engaging dormant ones, businesses can enhance customer retention rates."
   ]
  },
  {
   "cell_type": "markdown",
   "metadata": {},
   "source": [
    "# Exploratory Data Analysis "
   ]
  },
  {
   "cell_type": "code",
   "execution_count": 1,
   "metadata": {
    "ExecuteTime": {
     "end_time": "2023-11-23T19:07:58.931099Z",
     "start_time": "2023-11-23T19:07:54.546405Z"
    },
    "_cell_guid": "79c7e3d0-c299-4dcb-8224-4455121ee9b0",
    "_uuid": "d629ff2d2480ee46fbb7e2d37f6b5fab8052498a"
   },
   "outputs": [],
   "source": [
    "import pandas as pd\n",
    "import numpy as np\n",
    "import matplotlib.pyplot as plt\n",
    "import seaborn as sns\n",
    "import datetime as dt"
   ]
  },
  {
   "cell_type": "code",
   "execution_count": 2,
   "metadata": {
    "ExecuteTime": {
     "end_time": "2023-11-23T19:08:01.511725Z",
     "start_time": "2023-11-23T19:07:59.695140Z"
    },
    "_uuid": "a7e69fe1df6cb74e7fd416de9999ab25505a15f3"
   },
   "outputs": [],
   "source": [
    "df = pd.read_csv(\"Online Retail.csv\", dtype={'CustomerID': str})        \n",
    "df.drop(columns=\"Unnamed: 0\", inplace=True) "
   ]
  },
  {
   "cell_type": "markdown",
   "metadata": {},
   "source": [
    "https://archive.ics.uci.edu/dataset/352/online+retail"
   ]
  },
  {
   "cell_type": "raw",
   "metadata": {},
   "source": [
    "In this study, the “Online Retail” dataset from the UCI Machine Learning Repository has been utilized. \n",
    "In the original dataset, there are eight attributes: InvoiceNo, StockCode, Description, Quantity, InvoiceDate, UnitPrice, CustomerID, and Country. To derive the monetary value (total sales amount for each customer), we will introduce a new attribute labeled as \"Revenue\" into the dataset. "
   ]
  },
  {
   "cell_type": "code",
   "execution_count": 3,
   "metadata": {
    "ExecuteTime": {
     "end_time": "2023-11-23T19:08:02.585839Z",
     "start_time": "2023-11-23T19:08:01.560848Z"
    }
   },
   "outputs": [],
   "source": [
    "df = df[~df.duplicated()]"
   ]
  },
  {
   "cell_type": "code",
   "execution_count": 4,
   "metadata": {
    "ExecuteTime": {
     "end_time": "2023-11-23T19:08:02.641251Z",
     "start_time": "2023-11-23T19:08:02.588233Z"
    },
    "_uuid": "875725ef9031c3238ef98593560c372dbaa1da43"
   },
   "outputs": [
    {
     "data": {
      "text/html": [
       "<div>\n",
       "<style scoped>\n",
       "    .dataframe tbody tr th:only-of-type {\n",
       "        vertical-align: middle;\n",
       "    }\n",
       "\n",
       "    .dataframe tbody tr th {\n",
       "        vertical-align: top;\n",
       "    }\n",
       "\n",
       "    .dataframe thead th {\n",
       "        text-align: right;\n",
       "    }\n",
       "</style>\n",
       "<table border=\"1\" class=\"dataframe\">\n",
       "  <thead>\n",
       "    <tr style=\"text-align: right;\">\n",
       "      <th></th>\n",
       "      <th>InvoiceNo</th>\n",
       "      <th>StockCode</th>\n",
       "      <th>Description</th>\n",
       "      <th>Quantity</th>\n",
       "      <th>InvoiceDate</th>\n",
       "      <th>UnitPrice</th>\n",
       "      <th>CustomerID</th>\n",
       "      <th>Country</th>\n",
       "    </tr>\n",
       "  </thead>\n",
       "  <tbody>\n",
       "    <tr>\n",
       "      <th>0</th>\n",
       "      <td>536365.0</td>\n",
       "      <td>85123A</td>\n",
       "      <td>WHITE HANGING HEART T-LIGHT HOLDER</td>\n",
       "      <td>6.0</td>\n",
       "      <td>2010-12-01 08:26:00</td>\n",
       "      <td>2.55</td>\n",
       "      <td>17850.0</td>\n",
       "      <td>United Kingdom</td>\n",
       "    </tr>\n",
       "    <tr>\n",
       "      <th>1</th>\n",
       "      <td>536365.0</td>\n",
       "      <td>71053.0</td>\n",
       "      <td>WHITE METAL LANTERN</td>\n",
       "      <td>6.0</td>\n",
       "      <td>2010-12-01 08:26:00</td>\n",
       "      <td>3.39</td>\n",
       "      <td>17850.0</td>\n",
       "      <td>United Kingdom</td>\n",
       "    </tr>\n",
       "    <tr>\n",
       "      <th>2</th>\n",
       "      <td>536365.0</td>\n",
       "      <td>84406B</td>\n",
       "      <td>CREAM CUPID HEARTS COAT HANGER</td>\n",
       "      <td>8.0</td>\n",
       "      <td>2010-12-01 08:26:00</td>\n",
       "      <td>2.75</td>\n",
       "      <td>17850.0</td>\n",
       "      <td>United Kingdom</td>\n",
       "    </tr>\n",
       "    <tr>\n",
       "      <th>3</th>\n",
       "      <td>536365.0</td>\n",
       "      <td>84029G</td>\n",
       "      <td>KNITTED UNION FLAG HOT WATER BOTTLE</td>\n",
       "      <td>6.0</td>\n",
       "      <td>2010-12-01 08:26:00</td>\n",
       "      <td>3.39</td>\n",
       "      <td>17850.0</td>\n",
       "      <td>United Kingdom</td>\n",
       "    </tr>\n",
       "    <tr>\n",
       "      <th>4</th>\n",
       "      <td>536365.0</td>\n",
       "      <td>84029E</td>\n",
       "      <td>RED WOOLLY HOTTIE WHITE HEART.</td>\n",
       "      <td>6.0</td>\n",
       "      <td>2010-12-01 08:26:00</td>\n",
       "      <td>3.39</td>\n",
       "      <td>17850.0</td>\n",
       "      <td>United Kingdom</td>\n",
       "    </tr>\n",
       "    <tr>\n",
       "      <th>5</th>\n",
       "      <td>536365.0</td>\n",
       "      <td>22752.0</td>\n",
       "      <td>SET 7 BABUSHKA NESTING BOXES</td>\n",
       "      <td>2.0</td>\n",
       "      <td>2010-12-01 08:26:00</td>\n",
       "      <td>7.65</td>\n",
       "      <td>17850.0</td>\n",
       "      <td>United Kingdom</td>\n",
       "    </tr>\n",
       "    <tr>\n",
       "      <th>6</th>\n",
       "      <td>536365.0</td>\n",
       "      <td>21730.0</td>\n",
       "      <td>GLASS STAR FROSTED T-LIGHT HOLDER</td>\n",
       "      <td>6.0</td>\n",
       "      <td>2010-12-01 08:26:00</td>\n",
       "      <td>4.25</td>\n",
       "      <td>17850.0</td>\n",
       "      <td>United Kingdom</td>\n",
       "    </tr>\n",
       "    <tr>\n",
       "      <th>7</th>\n",
       "      <td>536366.0</td>\n",
       "      <td>22633.0</td>\n",
       "      <td>HAND WARMER UNION JACK</td>\n",
       "      <td>6.0</td>\n",
       "      <td>2010-12-01 08:28:00</td>\n",
       "      <td>1.85</td>\n",
       "      <td>17850.0</td>\n",
       "      <td>United Kingdom</td>\n",
       "    </tr>\n",
       "    <tr>\n",
       "      <th>8</th>\n",
       "      <td>536366.0</td>\n",
       "      <td>22632.0</td>\n",
       "      <td>HAND WARMER RED POLKA DOT</td>\n",
       "      <td>6.0</td>\n",
       "      <td>2010-12-01 08:28:00</td>\n",
       "      <td>1.85</td>\n",
       "      <td>17850.0</td>\n",
       "      <td>United Kingdom</td>\n",
       "    </tr>\n",
       "    <tr>\n",
       "      <th>9</th>\n",
       "      <td>536367.0</td>\n",
       "      <td>84879.0</td>\n",
       "      <td>ASSORTED COLOUR BIRD ORNAMENT</td>\n",
       "      <td>32.0</td>\n",
       "      <td>2010-12-01 08:34:00</td>\n",
       "      <td>1.69</td>\n",
       "      <td>13047.0</td>\n",
       "      <td>United Kingdom</td>\n",
       "    </tr>\n",
       "  </tbody>\n",
       "</table>\n",
       "</div>"
      ],
      "text/plain": [
       "  InvoiceNo StockCode                          Description  Quantity  \\\n",
       "0  536365.0    85123A   WHITE HANGING HEART T-LIGHT HOLDER       6.0   \n",
       "1  536365.0   71053.0                  WHITE METAL LANTERN       6.0   \n",
       "2  536365.0    84406B       CREAM CUPID HEARTS COAT HANGER       8.0   \n",
       "3  536365.0    84029G  KNITTED UNION FLAG HOT WATER BOTTLE       6.0   \n",
       "4  536365.0    84029E       RED WOOLLY HOTTIE WHITE HEART.       6.0   \n",
       "5  536365.0   22752.0         SET 7 BABUSHKA NESTING BOXES       2.0   \n",
       "6  536365.0   21730.0    GLASS STAR FROSTED T-LIGHT HOLDER       6.0   \n",
       "7  536366.0   22633.0               HAND WARMER UNION JACK       6.0   \n",
       "8  536366.0   22632.0            HAND WARMER RED POLKA DOT       6.0   \n",
       "9  536367.0   84879.0        ASSORTED COLOUR BIRD ORNAMENT      32.0   \n",
       "\n",
       "           InvoiceDate  UnitPrice CustomerID         Country  \n",
       "0  2010-12-01 08:26:00       2.55    17850.0  United Kingdom  \n",
       "1  2010-12-01 08:26:00       3.39    17850.0  United Kingdom  \n",
       "2  2010-12-01 08:26:00       2.75    17850.0  United Kingdom  \n",
       "3  2010-12-01 08:26:00       3.39    17850.0  United Kingdom  \n",
       "4  2010-12-01 08:26:00       3.39    17850.0  United Kingdom  \n",
       "5  2010-12-01 08:26:00       7.65    17850.0  United Kingdom  \n",
       "6  2010-12-01 08:26:00       4.25    17850.0  United Kingdom  \n",
       "7  2010-12-01 08:28:00       1.85    17850.0  United Kingdom  \n",
       "8  2010-12-01 08:28:00       1.85    17850.0  United Kingdom  \n",
       "9  2010-12-01 08:34:00       1.69    13047.0  United Kingdom  "
      ]
     },
     "execution_count": 4,
     "metadata": {},
     "output_type": "execute_result"
    }
   ],
   "source": [
    "df.head(10)"
   ]
  },
  {
   "cell_type": "code",
   "execution_count": 5,
   "metadata": {
    "ExecuteTime": {
     "end_time": "2023-11-23T19:08:03.860222Z",
     "start_time": "2023-11-23T19:08:02.775594Z"
    },
    "run_control": {
     "marked": true
    }
   },
   "outputs": [
    {
     "name": "stdout",
     "output_type": "stream",
     "text": [
      "<class 'pandas.core.frame.DataFrame'>\n",
      "Int64Index: 536641 entries, 0 to 541908\n",
      "Data columns (total 8 columns):\n",
      " #   Column       Non-Null Count   Dtype  \n",
      "---  ------       --------------   -----  \n",
      " 0   InvoiceNo    536641 non-null  object \n",
      " 1   StockCode    536641 non-null  object \n",
      " 2   Description  535187 non-null  object \n",
      " 3   Quantity     536641 non-null  float64\n",
      " 4   InvoiceDate  536641 non-null  object \n",
      " 5   UnitPrice    536641 non-null  float64\n",
      " 6   CustomerID   401604 non-null  object \n",
      " 7   Country      536641 non-null  object \n",
      "dtypes: float64(2), object(6)\n",
      "memory usage: 36.8+ MB\n"
     ]
    }
   ],
   "source": [
    "df.info()"
   ]
  },
  {
   "cell_type": "code",
   "execution_count": 6,
   "metadata": {
    "ExecuteTime": {
     "end_time": "2023-11-23T19:08:06.885999Z",
     "start_time": "2023-11-23T19:08:03.909143Z"
    }
   },
   "outputs": [
    {
     "data": {
      "text/html": [
       "<div>\n",
       "<style scoped>\n",
       "    .dataframe tbody tr th:only-of-type {\n",
       "        vertical-align: middle;\n",
       "    }\n",
       "\n",
       "    .dataframe tbody tr th {\n",
       "        vertical-align: top;\n",
       "    }\n",
       "\n",
       "    .dataframe thead th {\n",
       "        text-align: right;\n",
       "    }\n",
       "</style>\n",
       "<table border=\"1\" class=\"dataframe\">\n",
       "  <thead>\n",
       "    <tr style=\"text-align: right;\">\n",
       "      <th></th>\n",
       "      <th>Missing_Number</th>\n",
       "      <th>Missing_Percent</th>\n",
       "    </tr>\n",
       "  </thead>\n",
       "  <tbody>\n",
       "    <tr>\n",
       "      <th>CustomerID</th>\n",
       "      <td>135037</td>\n",
       "      <td>25.163377</td>\n",
       "    </tr>\n",
       "    <tr>\n",
       "      <th>Description</th>\n",
       "      <td>1454</td>\n",
       "      <td>0.270945</td>\n",
       "    </tr>\n",
       "    <tr>\n",
       "      <th>InvoiceNo</th>\n",
       "      <td>0</td>\n",
       "      <td>0.000000</td>\n",
       "    </tr>\n",
       "    <tr>\n",
       "      <th>StockCode</th>\n",
       "      <td>0</td>\n",
       "      <td>0.000000</td>\n",
       "    </tr>\n",
       "    <tr>\n",
       "      <th>Quantity</th>\n",
       "      <td>0</td>\n",
       "      <td>0.000000</td>\n",
       "    </tr>\n",
       "    <tr>\n",
       "      <th>InvoiceDate</th>\n",
       "      <td>0</td>\n",
       "      <td>0.000000</td>\n",
       "    </tr>\n",
       "    <tr>\n",
       "      <th>UnitPrice</th>\n",
       "      <td>0</td>\n",
       "      <td>0.000000</td>\n",
       "    </tr>\n",
       "    <tr>\n",
       "      <th>Country</th>\n",
       "      <td>0</td>\n",
       "      <td>0.000000</td>\n",
       "    </tr>\n",
       "  </tbody>\n",
       "</table>\n",
       "</div>"
      ],
      "text/plain": [
       "             Missing_Number  Missing_Percent\n",
       "CustomerID           135037        25.163377\n",
       "Description            1454         0.270945\n",
       "InvoiceNo                 0         0.000000\n",
       "StockCode                 0         0.000000\n",
       "Quantity                  0         0.000000\n",
       "InvoiceDate               0         0.000000\n",
       "UnitPrice                 0         0.000000\n",
       "Country                   0         0.000000"
      ]
     },
     "execution_count": 6,
     "metadata": {},
     "output_type": "execute_result"
    }
   ],
   "source": [
    "def missing (df):   # created to display the missing values as a percentage\n",
    "    missing_number = df.isnull().sum().sort_values(ascending=False)\n",
    "    missing_percent = (df.isnull().sum()/df.isnull().count()*100).sort_values(ascending=False)\n",
    "    missing_values = pd.concat([missing_number, missing_percent], axis=1, keys=['Missing_Number', 'Missing_Percent'])\n",
    "    return missing_values\n",
    "missing (df)"
   ]
  },
  {
   "cell_type": "code",
   "execution_count": 7,
   "metadata": {
    "ExecuteTime": {
     "end_time": "2023-11-23T19:08:07.038801Z",
     "start_time": "2023-11-23T19:08:06.936653Z"
    }
   },
   "outputs": [],
   "source": [
    "df = df.dropna(subset=['CustomerID'])\n",
    "df['CustomerID'] = df['CustomerID'].str.replace('\\.0$', '', regex=True)"
   ]
  },
  {
   "cell_type": "code",
   "execution_count": 8,
   "metadata": {},
   "outputs": [
    {
     "name": "stdout",
     "output_type": "stream",
     "text": [
      "              0.00  0.05  0.50  0.95   0.99     1.00\n",
      "Quantity  -80995.0  1.00  5.00  36.0  120.0  80995.0\n",
      "UnitPrice      0.0  0.42  1.95   8.5   15.0  38970.0\n"
     ]
    }
   ],
   "source": [
    "# Basic descriptive statistics:\n",
    "print((df.select_dtypes(include=['number']).quantile([0, 0.05, 0.50, 0.95, 0.99, 1]).T))\n",
    "# There are negative values in the Quantity and Price columns.These transactions are canceled orders.\n",
    "# We'll eliminate these observations."
   ]
  },
  {
   "cell_type": "code",
   "execution_count": 9,
   "metadata": {},
   "outputs": [],
   "source": [
    "df['InvoiceDate'] = pd.to_datetime(df['InvoiceDate']) "
   ]
  },
  {
   "cell_type": "code",
   "execution_count": 10,
   "metadata": {
    "ExecuteTime": {
     "end_time": "2023-11-23T19:08:07.436393Z",
     "start_time": "2023-11-23T19:08:07.100318Z"
    }
   },
   "outputs": [
    {
     "name": "stdout",
     "output_type": "stream",
     "text": [
      "Info about dataset :\n",
      "Count Row \t\t: 401604\n",
      "Count Column \t\t: 8\n",
      "Date range from \t: 2010-12-01 08:26:00  to  2011-12-09 12:50:00\n",
      "Count Transactions \t: 22190\n",
      "Unique Customer \t: 4372\n",
      "Quantity range from \t: -80995.0  to  80995.0\n",
      "UnitPrice range from \t: 0.0  to  38970.0\n"
     ]
    }
   ],
   "source": [
    "# Info about dataset\n",
    "def data_info (df):\n",
    "    df['InvoiceDate'] = pd.to_datetime(df['InvoiceDate'])\n",
    "    print(\"Info about dataset :\")\n",
    "    print(\"Count Row \\t\\t:\", df.shape[0]) \n",
    "    print(\"Count Column \\t\\t:\", df.shape[1]) \n",
    "    print(\"Date range from \\t:\", df.InvoiceDate.min(), \" to \", df.InvoiceDate.max()) \n",
    "    print(\"Count Transactions \\t:\", df.InvoiceNo.nunique()) \n",
    "    print(\"Unique Customer \\t:\", df.CustomerID.nunique()) \n",
    "    print(\"Quantity range from \\t:\", df.Quantity.min(), \" to \", df.Quantity.max()) \n",
    "    print(\"UnitPrice range from \\t:\", df.UnitPrice.min(), \" to \", df.UnitPrice.max())\n",
    "    \n",
    "data_info(df)"
   ]
  },
  {
   "cell_type": "code",
   "execution_count": 11,
   "metadata": {
    "ExecuteTime": {
     "end_time": "2023-11-23T19:08:07.544232Z",
     "start_time": "2023-11-23T19:08:07.494834Z"
    }
   },
   "outputs": [
    {
     "data": {
      "text/html": [
       "<div>\n",
       "<style scoped>\n",
       "    .dataframe tbody tr th:only-of-type {\n",
       "        vertical-align: middle;\n",
       "    }\n",
       "\n",
       "    .dataframe tbody tr th {\n",
       "        vertical-align: top;\n",
       "    }\n",
       "\n",
       "    .dataframe thead th {\n",
       "        text-align: right;\n",
       "    }\n",
       "</style>\n",
       "<table border=\"1\" class=\"dataframe\">\n",
       "  <thead>\n",
       "    <tr style=\"text-align: right;\">\n",
       "      <th></th>\n",
       "      <th>InvoiceNo</th>\n",
       "      <th>StockCode</th>\n",
       "      <th>Description</th>\n",
       "      <th>Quantity</th>\n",
       "      <th>InvoiceDate</th>\n",
       "      <th>UnitPrice</th>\n",
       "      <th>CustomerID</th>\n",
       "      <th>Country</th>\n",
       "    </tr>\n",
       "  </thead>\n",
       "  <tbody>\n",
       "    <tr>\n",
       "      <th>141</th>\n",
       "      <td>C536379</td>\n",
       "      <td>D</td>\n",
       "      <td>Discount</td>\n",
       "      <td>-1.0</td>\n",
       "      <td>2010-12-01 09:41:00</td>\n",
       "      <td>27.50</td>\n",
       "      <td>14527</td>\n",
       "      <td>United Kingdom</td>\n",
       "    </tr>\n",
       "    <tr>\n",
       "      <th>154</th>\n",
       "      <td>C536383</td>\n",
       "      <td>35004C</td>\n",
       "      <td>SET OF 3 COLOURED  FLYING DUCKS</td>\n",
       "      <td>-1.0</td>\n",
       "      <td>2010-12-01 09:49:00</td>\n",
       "      <td>4.65</td>\n",
       "      <td>15311</td>\n",
       "      <td>United Kingdom</td>\n",
       "    </tr>\n",
       "    <tr>\n",
       "      <th>235</th>\n",
       "      <td>C536391</td>\n",
       "      <td>22556.0</td>\n",
       "      <td>PLASTERS IN TIN CIRCUS PARADE</td>\n",
       "      <td>-12.0</td>\n",
       "      <td>2010-12-01 10:24:00</td>\n",
       "      <td>1.65</td>\n",
       "      <td>17548</td>\n",
       "      <td>United Kingdom</td>\n",
       "    </tr>\n",
       "    <tr>\n",
       "      <th>236</th>\n",
       "      <td>C536391</td>\n",
       "      <td>21984.0</td>\n",
       "      <td>PACK OF 12 PINK PAISLEY TISSUES</td>\n",
       "      <td>-24.0</td>\n",
       "      <td>2010-12-01 10:24:00</td>\n",
       "      <td>0.29</td>\n",
       "      <td>17548</td>\n",
       "      <td>United Kingdom</td>\n",
       "    </tr>\n",
       "    <tr>\n",
       "      <th>237</th>\n",
       "      <td>C536391</td>\n",
       "      <td>21983.0</td>\n",
       "      <td>PACK OF 12 BLUE PAISLEY TISSUES</td>\n",
       "      <td>-24.0</td>\n",
       "      <td>2010-12-01 10:24:00</td>\n",
       "      <td>0.29</td>\n",
       "      <td>17548</td>\n",
       "      <td>United Kingdom</td>\n",
       "    </tr>\n",
       "    <tr>\n",
       "      <th>...</th>\n",
       "      <td>...</td>\n",
       "      <td>...</td>\n",
       "      <td>...</td>\n",
       "      <td>...</td>\n",
       "      <td>...</td>\n",
       "      <td>...</td>\n",
       "      <td>...</td>\n",
       "      <td>...</td>\n",
       "    </tr>\n",
       "    <tr>\n",
       "      <th>540449</th>\n",
       "      <td>C581490</td>\n",
       "      <td>23144.0</td>\n",
       "      <td>ZINC T-LIGHT HOLDER STARS SMALL</td>\n",
       "      <td>-11.0</td>\n",
       "      <td>2011-12-09 09:57:00</td>\n",
       "      <td>0.83</td>\n",
       "      <td>14397</td>\n",
       "      <td>United Kingdom</td>\n",
       "    </tr>\n",
       "    <tr>\n",
       "      <th>541541</th>\n",
       "      <td>C581499</td>\n",
       "      <td>M</td>\n",
       "      <td>Manual</td>\n",
       "      <td>-1.0</td>\n",
       "      <td>2011-12-09 10:28:00</td>\n",
       "      <td>224.69</td>\n",
       "      <td>15498</td>\n",
       "      <td>United Kingdom</td>\n",
       "    </tr>\n",
       "    <tr>\n",
       "      <th>541715</th>\n",
       "      <td>C581568</td>\n",
       "      <td>21258.0</td>\n",
       "      <td>VICTORIAN SEWING BOX LARGE</td>\n",
       "      <td>-5.0</td>\n",
       "      <td>2011-12-09 11:57:00</td>\n",
       "      <td>10.95</td>\n",
       "      <td>15311</td>\n",
       "      <td>United Kingdom</td>\n",
       "    </tr>\n",
       "    <tr>\n",
       "      <th>541716</th>\n",
       "      <td>C581569</td>\n",
       "      <td>84978.0</td>\n",
       "      <td>HANGING HEART JAR T-LIGHT HOLDER</td>\n",
       "      <td>-1.0</td>\n",
       "      <td>2011-12-09 11:58:00</td>\n",
       "      <td>1.25</td>\n",
       "      <td>17315</td>\n",
       "      <td>United Kingdom</td>\n",
       "    </tr>\n",
       "    <tr>\n",
       "      <th>541717</th>\n",
       "      <td>C581569</td>\n",
       "      <td>20979.0</td>\n",
       "      <td>36 PENCILS TUBE RED RETROSPOT</td>\n",
       "      <td>-5.0</td>\n",
       "      <td>2011-12-09 11:58:00</td>\n",
       "      <td>1.25</td>\n",
       "      <td>17315</td>\n",
       "      <td>United Kingdom</td>\n",
       "    </tr>\n",
       "  </tbody>\n",
       "</table>\n",
       "<p>8872 rows × 8 columns</p>\n",
       "</div>"
      ],
      "text/plain": [
       "       InvoiceNo StockCode                       Description  Quantity  \\\n",
       "141      C536379         D                          Discount      -1.0   \n",
       "154      C536383    35004C   SET OF 3 COLOURED  FLYING DUCKS      -1.0   \n",
       "235      C536391   22556.0    PLASTERS IN TIN CIRCUS PARADE      -12.0   \n",
       "236      C536391   21984.0  PACK OF 12 PINK PAISLEY TISSUES      -24.0   \n",
       "237      C536391   21983.0  PACK OF 12 BLUE PAISLEY TISSUES      -24.0   \n",
       "...          ...       ...                               ...       ...   \n",
       "540449   C581490   23144.0   ZINC T-LIGHT HOLDER STARS SMALL     -11.0   \n",
       "541541   C581499         M                            Manual      -1.0   \n",
       "541715   C581568   21258.0        VICTORIAN SEWING BOX LARGE      -5.0   \n",
       "541716   C581569   84978.0  HANGING HEART JAR T-LIGHT HOLDER      -1.0   \n",
       "541717   C581569   20979.0     36 PENCILS TUBE RED RETROSPOT      -5.0   \n",
       "\n",
       "               InvoiceDate  UnitPrice CustomerID         Country  \n",
       "141    2010-12-01 09:41:00      27.50      14527  United Kingdom  \n",
       "154    2010-12-01 09:49:00       4.65      15311  United Kingdom  \n",
       "235    2010-12-01 10:24:00       1.65      17548  United Kingdom  \n",
       "236    2010-12-01 10:24:00       0.29      17548  United Kingdom  \n",
       "237    2010-12-01 10:24:00       0.29      17548  United Kingdom  \n",
       "...                    ...        ...        ...             ...  \n",
       "540449 2011-12-09 09:57:00       0.83      14397  United Kingdom  \n",
       "541541 2011-12-09 10:28:00     224.69      15498  United Kingdom  \n",
       "541715 2011-12-09 11:57:00      10.95      15311  United Kingdom  \n",
       "541716 2011-12-09 11:58:00       1.25      17315  United Kingdom  \n",
       "541717 2011-12-09 11:58:00       1.25      17315  United Kingdom  \n",
       "\n",
       "[8872 rows x 8 columns]"
      ]
     },
     "execution_count": 11,
     "metadata": {},
     "output_type": "execute_result"
    }
   ],
   "source": [
    "df[(df.Quantity < 0)]"
   ]
  },
  {
   "cell_type": "code",
   "execution_count": 12,
   "metadata": {
    "ExecuteTime": {
     "end_time": "2023-11-23T19:08:07.707943Z",
     "start_time": "2023-11-23T19:08:07.607940Z"
    }
   },
   "outputs": [],
   "source": [
    "# With this operation, we can drop the rows containing canceled orders.\n",
    "df = df[(df.Quantity > 0)]"
   ]
  },
  {
   "cell_type": "code",
   "execution_count": 13,
   "metadata": {
    "ExecuteTime": {
     "end_time": "2023-11-23T19:08:07.792993Z",
     "start_time": "2023-11-23T19:08:07.779174Z"
    }
   },
   "outputs": [],
   "source": [
    "# Create a TotalSales Column if there is not in the data set:\n",
    "df[\"Revenue\"] = df[\"UnitPrice\"] * df[\"Quantity\"]"
   ]
  },
  {
   "cell_type": "code",
   "execution_count": 14,
   "metadata": {
    "ExecuteTime": {
     "end_time": "2023-11-23T19:08:08.140691Z",
     "start_time": "2023-11-23T19:08:07.860831Z"
    }
   },
   "outputs": [
    {
     "name": "stdout",
     "output_type": "stream",
     "text": [
      "Info about dataset :\n",
      "Count Row \t\t: 392732\n",
      "Count Column \t\t: 9\n",
      "Date range from \t: 2010-12-01 08:26:00  to  2011-12-09 12:50:00\n",
      "Count Transactions \t: 18536\n",
      "Unique Customer \t: 4339\n",
      "Quantity range from \t: 1.0  to  80995.0\n",
      "UnitPrice range from \t: 0.0  to  8142.75\n"
     ]
    }
   ],
   "source": [
    "data_info(df)"
   ]
  },
  {
   "cell_type": "code",
   "execution_count": 15,
   "metadata": {},
   "outputs": [
    {
     "data": {
      "text/html": [
       "<div>\n",
       "<style scoped>\n",
       "    .dataframe tbody tr th:only-of-type {\n",
       "        vertical-align: middle;\n",
       "    }\n",
       "\n",
       "    .dataframe tbody tr th {\n",
       "        vertical-align: top;\n",
       "    }\n",
       "\n",
       "    .dataframe thead th {\n",
       "        text-align: right;\n",
       "    }\n",
       "</style>\n",
       "<table border=\"1\" class=\"dataframe\">\n",
       "  <thead>\n",
       "    <tr style=\"text-align: right;\">\n",
       "      <th></th>\n",
       "      <th>count</th>\n",
       "      <th>mean</th>\n",
       "      <th>std</th>\n",
       "      <th>min</th>\n",
       "      <th>1%</th>\n",
       "      <th>25%</th>\n",
       "      <th>50%</th>\n",
       "      <th>75%</th>\n",
       "      <th>99%</th>\n",
       "      <th>max</th>\n",
       "    </tr>\n",
       "  </thead>\n",
       "  <tbody>\n",
       "    <tr>\n",
       "      <th>Quantity</th>\n",
       "      <td>392732.0</td>\n",
       "      <td>13.153718</td>\n",
       "      <td>181.588420</td>\n",
       "      <td>1.0</td>\n",
       "      <td>1.00</td>\n",
       "      <td>2.00</td>\n",
       "      <td>6.00</td>\n",
       "      <td>12.00</td>\n",
       "      <td>120.00</td>\n",
       "      <td>80995.00</td>\n",
       "    </tr>\n",
       "    <tr>\n",
       "      <th>UnitPrice</th>\n",
       "      <td>392732.0</td>\n",
       "      <td>3.125596</td>\n",
       "      <td>22.240725</td>\n",
       "      <td>0.0</td>\n",
       "      <td>0.21</td>\n",
       "      <td>1.25</td>\n",
       "      <td>1.95</td>\n",
       "      <td>3.75</td>\n",
       "      <td>14.95</td>\n",
       "      <td>8142.75</td>\n",
       "    </tr>\n",
       "    <tr>\n",
       "      <th>Revenue</th>\n",
       "      <td>392732.0</td>\n",
       "      <td>22.629195</td>\n",
       "      <td>311.083465</td>\n",
       "      <td>0.0</td>\n",
       "      <td>0.55</td>\n",
       "      <td>4.95</td>\n",
       "      <td>12.39</td>\n",
       "      <td>19.80</td>\n",
       "      <td>203.52</td>\n",
       "      <td>168469.60</td>\n",
       "    </tr>\n",
       "  </tbody>\n",
       "</table>\n",
       "</div>"
      ],
      "text/plain": [
       "              count       mean         std  min    1%   25%    50%    75%  \\\n",
       "Quantity   392732.0  13.153718  181.588420  1.0  1.00  2.00   6.00  12.00   \n",
       "UnitPrice  392732.0   3.125596   22.240725  0.0  0.21  1.25   1.95   3.75   \n",
       "Revenue    392732.0  22.629195  311.083465  0.0  0.55  4.95  12.39  19.80   \n",
       "\n",
       "              99%        max  \n",
       "Quantity   120.00   80995.00  \n",
       "UnitPrice   14.95    8142.75  \n",
       "Revenue    203.52  168469.60  "
      ]
     },
     "execution_count": 15,
     "metadata": {},
     "output_type": "execute_result"
    }
   ],
   "source": [
    "# Checking dataframe:\n",
    "df.describe([0.01,0.25,0.50,0.75,0.99]).T"
   ]
  },
  {
   "cell_type": "code",
   "execution_count": 16,
   "metadata": {},
   "outputs": [
    {
     "data": {
      "image/png": "[encoded data removed]",
      "text/plain": [
       "<Figure size 600x400 with 1 Axes>"
      ]
     },
     "metadata": {},
     "output_type": "display_data"
    }
   ],
   "source": [
    "# See the extreme Revenues.\n",
    "plt.figure(figsize=(6, 4))\n",
    "plt.boxplot(df['Revenue'])\n",
    "plt.title('Extreme Values of Revenue')  \n",
    "plt.ylabel('Revenue')  \n",
    "plt.show();"
   ]
  },
  {
   "cell_type": "code",
   "execution_count": 17,
   "metadata": {},
   "outputs": [
    {
     "data": {
      "text/html": [
       "<div>\n",
       "<style scoped>\n",
       "    .dataframe tbody tr th:only-of-type {\n",
       "        vertical-align: middle;\n",
       "    }\n",
       "\n",
       "    .dataframe tbody tr th {\n",
       "        vertical-align: top;\n",
       "    }\n",
       "\n",
       "    .dataframe thead th {\n",
       "        text-align: right;\n",
       "    }\n",
       "</style>\n",
       "<table border=\"1\" class=\"dataframe\">\n",
       "  <thead>\n",
       "    <tr style=\"text-align: right;\">\n",
       "      <th></th>\n",
       "      <th>InvoiceNo</th>\n",
       "      <th>StockCode</th>\n",
       "      <th>Description</th>\n",
       "      <th>Quantity</th>\n",
       "      <th>InvoiceDate</th>\n",
       "      <th>UnitPrice</th>\n",
       "      <th>CustomerID</th>\n",
       "      <th>Country</th>\n",
       "      <th>Revenue</th>\n",
       "    </tr>\n",
       "  </thead>\n",
       "  <tbody>\n",
       "    <tr>\n",
       "      <th>61619</th>\n",
       "      <td>541431.0</td>\n",
       "      <td>23166.0</td>\n",
       "      <td>MEDIUM CERAMIC TOP STORAGE JAR</td>\n",
       "      <td>74215.0</td>\n",
       "      <td>2011-01-18 10:01:00</td>\n",
       "      <td>1.04</td>\n",
       "      <td>12346</td>\n",
       "      <td>United Kingdom</td>\n",
       "      <td>77183.6</td>\n",
       "    </tr>\n",
       "    <tr>\n",
       "      <th>222680</th>\n",
       "      <td>556444.0</td>\n",
       "      <td>22502.0</td>\n",
       "      <td>PICNIC BASKET WICKER 60 PIECES</td>\n",
       "      <td>60.0</td>\n",
       "      <td>2011-06-10 15:28:00</td>\n",
       "      <td>649.50</td>\n",
       "      <td>15098</td>\n",
       "      <td>United Kingdom</td>\n",
       "      <td>38970.0</td>\n",
       "    </tr>\n",
       "    <tr>\n",
       "      <th>540421</th>\n",
       "      <td>581483.0</td>\n",
       "      <td>23843.0</td>\n",
       "      <td>PAPER CRAFT , LITTLE BIRDIE</td>\n",
       "      <td>80995.0</td>\n",
       "      <td>2011-12-09 09:15:00</td>\n",
       "      <td>2.08</td>\n",
       "      <td>16446</td>\n",
       "      <td>United Kingdom</td>\n",
       "      <td>168469.6</td>\n",
       "    </tr>\n",
       "  </tbody>\n",
       "</table>\n",
       "</div>"
      ],
      "text/plain": [
       "       InvoiceNo StockCode                     Description  Quantity  \\\n",
       "61619   541431.0   23166.0  MEDIUM CERAMIC TOP STORAGE JAR   74215.0   \n",
       "222680  556444.0   22502.0  PICNIC BASKET WICKER 60 PIECES      60.0   \n",
       "540421  581483.0   23843.0     PAPER CRAFT , LITTLE BIRDIE   80995.0   \n",
       "\n",
       "               InvoiceDate  UnitPrice CustomerID         Country   Revenue  \n",
       "61619  2011-01-18 10:01:00       1.04      12346  United Kingdom   77183.6  \n",
       "222680 2011-06-10 15:28:00     649.50      15098  United Kingdom   38970.0  \n",
       "540421 2011-12-09 09:15:00       2.08      16446  United Kingdom  168469.6  "
      ]
     },
     "execution_count": 17,
     "metadata": {},
     "output_type": "execute_result"
    }
   ],
   "source": [
    "df[(df.Revenue>25000)]"
   ]
  },
  {
   "cell_type": "markdown",
   "metadata": {
    "_uuid": "d9f9c9e7a3c9c8149ef47565aaf73cd114901209"
   },
   "source": [
    "# Customer Segmentation with RFM metrics"
   ]
  },
  {
   "cell_type": "markdown",
   "metadata": {},
   "source": [
    "***RFM, which stands for Recency, Frequency, and Monetary, is a data-driven technique utilized by businesses to categorize and segment their customer base. At its core, RFM analysis quantifies customer behavior based on three key parameters:***\n",
    "\n",
    "***1. Recency (R):*** This metric evaluates the time elapsed since a customer's last interaction or transaction with the business. It emphasizes the principle that more recent interactions may indicate higher engagement or responsiveness.\n",
    "\n",
    "***2. Frequency (F):*** Frequency assesses the number of interactions or transactions conducted by a customer within a defined period. It sheds light on how often customers engage with the business, indicating loyalty or buying habits.\n",
    "\n",
    "***3. Monetary (M):*** Monetary value represents the total spending or monetary contribution of a customer over a specific timeframe. It signifies the customer's profitability or the potential revenue they bring to the business."
   ]
  },
  {
   "cell_type": "markdown",
   "metadata": {
    "_uuid": "5530e6a14b9293a88fef67bd4ff0eadca0018247"
   },
   "source": [
    "Because the last transaction on the data was December 9, 2011, we will use December 10, 2011 as now to calculate the recency."
   ]
  },
  {
   "cell_type": "code",
   "execution_count": 18,
   "metadata": {
    "ExecuteTime": {
     "end_time": "2023-11-23T19:08:08.219643Z",
     "start_time": "2023-11-23T19:08:08.211736Z"
    }
   },
   "outputs": [],
   "source": [
    "# We will create this RFM Table:"
   ]
  },
  {
   "attachments": {
    "image-2.png": {
     "image/png": "[encoded data removed]"
    }
   },
   "cell_type": "markdown",
   "metadata": {},
   "source": [
    "![image-2.png](attachment:image-2.png)"
   ]
  },
  {
   "cell_type": "raw",
   "metadata": {},
   "source": [
    "The initial phase and foundation of RFM analysis involve the preparation of the RFM Table, which combines the calculation of each RFM metric. An example of the RFM Table is demonstrated above. \n",
    "\n",
    "The RFM Table, although being the most basic table obtained at the outset of our analysis, holds immense value by allowing us to conduct valuable analyses such as sorting columns to list lost customers, the most loyal, or the most valuable clients. It bestows us with the opportunity to derive valuable insights from its columns."
   ]
  },
  {
   "cell_type": "code",
   "execution_count": 19,
   "metadata": {
    "ExecuteTime": {
     "end_time": "2023-11-23T19:08:08.377307Z",
     "start_time": "2023-11-23T19:08:08.363888Z"
    }
   },
   "outputs": [],
   "source": [
    "# Now, let's proceed step by step"
   ]
  },
  {
   "cell_type": "markdown",
   "metadata": {},
   "source": [
    "## Find Recency, Frequency, Monetary of each Customer"
   ]
  },
  {
   "cell_type": "code",
   "execution_count": 20,
   "metadata": {
    "ExecuteTime": {
     "end_time": "2023-11-23T19:08:08.455122Z",
     "start_time": "2023-11-23T19:08:08.442848Z"
    },
    "_uuid": "734d8189fad41641239056d5eba699ed517a1d41"
   },
   "outputs": [],
   "source": [
    "NOW = df['InvoiceDate'].max()              # NOW = dt.datetime(2011,12,09)"
   ]
  },
  {
   "cell_type": "code",
   "execution_count": 21,
   "metadata": {},
   "outputs": [],
   "source": [
    "RFM_Table = df.groupby('CustomerID').agg({\n",
    "    'InvoiceDate': lambda x: max((NOW - x.max()).days, 1),  # Not to get a recency with zero value, min recency will be 1.\n",
    "    'InvoiceNo': lambda x: len(x),\n",
    "    'Revenue': lambda x: x.sum()\n",
    "})\n",
    "\n",
    "RFM_Table['InvoiceDate'] = RFM_Table['InvoiceDate'].astype(int)\n",
    "\n",
    "RFM_Table.rename(columns={'InvoiceDate': 'recency', \n",
    "                         'InvoiceNo': 'frequency', \n",
    "                         'Revenue': 'monetary'}, inplace=True)"
   ]
  },
  {
   "cell_type": "code",
   "execution_count": 22,
   "metadata": {},
   "outputs": [
    {
     "data": {
      "text/html": [
       "<div>\n",
       "<style scoped>\n",
       "    .dataframe tbody tr th:only-of-type {\n",
       "        vertical-align: middle;\n",
       "    }\n",
       "\n",
       "    .dataframe tbody tr th {\n",
       "        vertical-align: top;\n",
       "    }\n",
       "\n",
       "    .dataframe thead th {\n",
       "        text-align: right;\n",
       "    }\n",
       "</style>\n",
       "<table border=\"1\" class=\"dataframe\">\n",
       "  <thead>\n",
       "    <tr style=\"text-align: right;\">\n",
       "      <th></th>\n",
       "      <th>recency</th>\n",
       "      <th>frequency</th>\n",
       "      <th>monetary</th>\n",
       "    </tr>\n",
       "    <tr>\n",
       "      <th>CustomerID</th>\n",
       "      <th></th>\n",
       "      <th></th>\n",
       "      <th></th>\n",
       "    </tr>\n",
       "  </thead>\n",
       "  <tbody>\n",
       "  </tbody>\n",
       "</table>\n",
       "</div>"
      ],
      "text/plain": [
       "Empty DataFrame\n",
       "Columns: [recency, frequency, monetary]\n",
       "Index: []"
      ]
     },
     "execution_count": 22,
     "metadata": {},
     "output_type": "execute_result"
    }
   ],
   "source": [
    "RFM_Table[(RFM_Table.recency==0)]"
   ]
  },
  {
   "cell_type": "raw",
   "metadata": {},
   "source": [
    "For further analyses, to prevent issues when dividing by recency=0, we ensured that the minimum recency value is 1 in the code above. For this specific analysis, a simpler version of the code below without max() function can be used."
   ]
  },
  {
   "cell_type": "raw",
   "metadata": {
    "ExecuteTime": {
     "end_time": "2023-11-23T19:08:11.257634Z",
     "start_time": "2023-11-23T19:08:08.512074Z"
    },
    "_uuid": "efd91b2d0428ab25b088f58e12d1b635b9b9dc12"
   },
   "source": [
    "RFM_Table = df.groupby('CustomerID').agg({'InvoiceDate': lambda x: (NOW - x.max()).days, \n",
    "                                             'InvoiceNo': lambda x: len(x), \n",
    "                                             'Revenue': lambda x: x.sum()})\n",
    "\n",
    "RFM_Table['InvoiceDate'] = RFM_Table['InvoiceDate'].astype(int)\n",
    "\n",
    "RFM_Table.rename(columns={'InvoiceDate': 'recency', \n",
    "                         'InvoiceNo': 'frequency', \n",
    "                         'Revenue': 'monetary'}, inplace=True)"
   ]
  },
  {
   "cell_type": "raw",
   "metadata": {},
   "source": [
    "The code above is used to generate an RFM (Recency, Frequency, Monetary) Table for customer segmentation. The variable NOW is set to the maximum date in the 'InvoiceDate' column of the dataset, essentially representing the current date or reference point for recency calculations.\n",
    "\n",
    "The dataset is grouped by 'CustomerID' to perform aggregation operations on each customer's data. Three aggragation metrics are computed for each customer:\n",
    "• Recency (InvoiceDate): Calculating the number of days between the reference date (NOW) and the last invoice date for each customer.\n",
    "• Frequency (InvoiceNo): Counting the number of invoices for each customer, indicating their transaction frequency.\n",
    "• Monetary (Revenue): Summing up the revenue or total amount spent by each customer across all transactions.\n",
    "\n",
    "The lambda functions here are applied within the agg() method to perform specific calculations on the grouped data for each customer, resulting in the aggregation of Recency, Frequency, and Monetary metrics, forming the basis of the RFM Table.\n",
    "• lambda x: (NOW - x.max()).days:\n",
    "This lambda function calculates the 'Recency' metric for each customer. It computes the number of days between the reference date (NOW) and the maximum date in the 'InvoiceDate' column for each customer. This value represents how recently each customer made their last purchase.\n",
    "• lambda x: len(x):\n",
    "This lambda function determines the 'Frequency' metric for each customer. It counts the number of invoices (transactions) associated with each customer, providing insights into how frequently they conduct transactions with the business.\n",
    "• lambda x: x.sum():\n",
    "This lambda function calculates the 'Monetary' metric for each customer. It sums up the total revenue generated by each customer across all their transactions, indicating their monetary contribution or total spending.\n",
    "\n",
    "The 'InvoiceDate' values in the RFM_Table are converted to integer type for clearer representation of recency as days.\n",
    "\n",
    "The resulting aggregated metrics are assigned as columns in the RFM_Table, labeled as 'recency', 'frequency', and 'monetary' respectively for better clarity and understanding.\n",
    "\n",
    "Our RFM Table is now prepared. In the second phase, we will add three more columns to this table."
   ]
  },
  {
   "cell_type": "code",
   "execution_count": 23,
   "metadata": {
    "ExecuteTime": {
     "end_time": "2023-11-23T19:08:11.375418Z",
     "start_time": "2023-11-23T19:08:11.354400Z"
    },
    "_uuid": "df47d934ab4fa9b7dc16f8e5987a8743d4a8401d"
   },
   "outputs": [
    {
     "data": {
      "text/html": [
       "<div>\n",
       "<style scoped>\n",
       "    .dataframe tbody tr th:only-of-type {\n",
       "        vertical-align: middle;\n",
       "    }\n",
       "\n",
       "    .dataframe tbody tr th {\n",
       "        vertical-align: top;\n",
       "    }\n",
       "\n",
       "    .dataframe thead th {\n",
       "        text-align: right;\n",
       "    }\n",
       "</style>\n",
       "<table border=\"1\" class=\"dataframe\">\n",
       "  <thead>\n",
       "    <tr style=\"text-align: right;\">\n",
       "      <th></th>\n",
       "      <th>recency</th>\n",
       "      <th>frequency</th>\n",
       "      <th>monetary</th>\n",
       "    </tr>\n",
       "    <tr>\n",
       "      <th>CustomerID</th>\n",
       "      <th></th>\n",
       "      <th></th>\n",
       "      <th></th>\n",
       "    </tr>\n",
       "  </thead>\n",
       "  <tbody>\n",
       "    <tr>\n",
       "      <th>12346</th>\n",
       "      <td>325</td>\n",
       "      <td>1</td>\n",
       "      <td>77183.60</td>\n",
       "    </tr>\n",
       "    <tr>\n",
       "      <th>12347</th>\n",
       "      <td>1</td>\n",
       "      <td>182</td>\n",
       "      <td>4310.00</td>\n",
       "    </tr>\n",
       "    <tr>\n",
       "      <th>12348</th>\n",
       "      <td>74</td>\n",
       "      <td>31</td>\n",
       "      <td>1797.24</td>\n",
       "    </tr>\n",
       "    <tr>\n",
       "      <th>12349</th>\n",
       "      <td>18</td>\n",
       "      <td>73</td>\n",
       "      <td>1757.55</td>\n",
       "    </tr>\n",
       "    <tr>\n",
       "      <th>12350</th>\n",
       "      <td>309</td>\n",
       "      <td>17</td>\n",
       "      <td>334.40</td>\n",
       "    </tr>\n",
       "  </tbody>\n",
       "</table>\n",
       "</div>"
      ],
      "text/plain": [
       "            recency  frequency  monetary\n",
       "CustomerID                              \n",
       "12346           325          1  77183.60\n",
       "12347             1        182   4310.00\n",
       "12348            74         31   1797.24\n",
       "12349            18         73   1757.55\n",
       "12350           309         17    334.40"
      ]
     },
     "execution_count": 23,
     "metadata": {},
     "output_type": "execute_result"
    }
   ],
   "source": [
    "RFM_Table.head()"
   ]
  },
  {
   "cell_type": "markdown",
   "metadata": {
    "_uuid": "0290d8c5258f28fd478e418b3cfe8ee805f314e0"
   },
   "source": [
    "***We can interpret the first customer in the table above as follows: This customer has made a single purchase(frequency=1) in total, and it has been 325 days(recency=325) since that purchase without any subsequent transactions, indicating that he/she is a lost customer.***"
   ]
  },
  {
   "cell_type": "code",
   "execution_count": 24,
   "metadata": {},
   "outputs": [
    {
     "data": {
      "text/html": [
       "<div>\n",
       "<style scoped>\n",
       "    .dataframe tbody tr th:only-of-type {\n",
       "        vertical-align: middle;\n",
       "    }\n",
       "\n",
       "    .dataframe tbody tr th {\n",
       "        vertical-align: top;\n",
       "    }\n",
       "\n",
       "    .dataframe thead th {\n",
       "        text-align: right;\n",
       "    }\n",
       "</style>\n",
       "<table border=\"1\" class=\"dataframe\">\n",
       "  <thead>\n",
       "    <tr style=\"text-align: right;\">\n",
       "      <th></th>\n",
       "      <th>recency</th>\n",
       "      <th>frequency</th>\n",
       "      <th>monetary</th>\n",
       "    </tr>\n",
       "    <tr>\n",
       "      <th>CustomerID</th>\n",
       "      <th></th>\n",
       "      <th></th>\n",
       "      <th></th>\n",
       "    </tr>\n",
       "  </thead>\n",
       "  <tbody>\n",
       "    <tr>\n",
       "      <th>14646</th>\n",
       "      <td>1</td>\n",
       "      <td>2080</td>\n",
       "      <td>280206.02</td>\n",
       "    </tr>\n",
       "    <tr>\n",
       "      <th>18102</th>\n",
       "      <td>1</td>\n",
       "      <td>431</td>\n",
       "      <td>259657.30</td>\n",
       "    </tr>\n",
       "    <tr>\n",
       "      <th>17450</th>\n",
       "      <td>7</td>\n",
       "      <td>336</td>\n",
       "      <td>194390.79</td>\n",
       "    </tr>\n",
       "    <tr>\n",
       "      <th>16446</th>\n",
       "      <td>1</td>\n",
       "      <td>3</td>\n",
       "      <td>168472.50</td>\n",
       "    </tr>\n",
       "    <tr>\n",
       "      <th>14911</th>\n",
       "      <td>1</td>\n",
       "      <td>5672</td>\n",
       "      <td>143711.17</td>\n",
       "    </tr>\n",
       "    <tr>\n",
       "      <th>...</th>\n",
       "      <td>...</td>\n",
       "      <td>...</td>\n",
       "      <td>...</td>\n",
       "    </tr>\n",
       "    <tr>\n",
       "      <th>17956</th>\n",
       "      <td>248</td>\n",
       "      <td>1</td>\n",
       "      <td>12.75</td>\n",
       "    </tr>\n",
       "    <tr>\n",
       "      <th>16454</th>\n",
       "      <td>44</td>\n",
       "      <td>2</td>\n",
       "      <td>6.90</td>\n",
       "    </tr>\n",
       "    <tr>\n",
       "      <th>14792</th>\n",
       "      <td>63</td>\n",
       "      <td>2</td>\n",
       "      <td>6.20</td>\n",
       "    </tr>\n",
       "    <tr>\n",
       "      <th>16738</th>\n",
       "      <td>297</td>\n",
       "      <td>1</td>\n",
       "      <td>3.75</td>\n",
       "    </tr>\n",
       "    <tr>\n",
       "      <th>13256</th>\n",
       "      <td>13</td>\n",
       "      <td>1</td>\n",
       "      <td>0.00</td>\n",
       "    </tr>\n",
       "  </tbody>\n",
       "</table>\n",
       "<p>4339 rows × 3 columns</p>\n",
       "</div>"
      ],
      "text/plain": [
       "            recency  frequency   monetary\n",
       "CustomerID                               \n",
       "14646             1       2080  280206.02\n",
       "18102             1        431  259657.30\n",
       "17450             7        336  194390.79\n",
       "16446             1          3  168472.50\n",
       "14911             1       5672  143711.17\n",
       "...             ...        ...        ...\n",
       "17956           248          1      12.75\n",
       "16454            44          2       6.90\n",
       "14792            63          2       6.20\n",
       "16738           297          1       3.75\n",
       "13256            13          1       0.00\n",
       "\n",
       "[4339 rows x 3 columns]"
      ]
     },
     "execution_count": 24,
     "metadata": {},
     "output_type": "execute_result"
    }
   ],
   "source": [
    "RFM_Table.sort_values(by=\"monetary\", ascending=False)"
   ]
  },
  {
   "cell_type": "markdown",
   "metadata": {},
   "source": [
    "***We observe the top 5 customers who have made the highest total purchases. Except for customer 16446 in the fourth row, these customers appear to be loyal due to their high frequency and very low recency values. Customer 16446, who has made a total of 3 purchases and made his/her last purchase yesterday, seems to be a potentially valuable new customer. However, it wouldn't be possible to definitively confirm his/her status as a new customer solely based on this RFM Table without looking at his/her prior purchase dates.***"
   ]
  },
  {
   "cell_type": "code",
   "execution_count": 25,
   "metadata": {
    "run_control": {
     "marked": true
    }
   },
   "outputs": [
    {
     "data": {
      "text/html": [
       "<div>\n",
       "<style scoped>\n",
       "    .dataframe tbody tr th:only-of-type {\n",
       "        vertical-align: middle;\n",
       "    }\n",
       "\n",
       "    .dataframe tbody tr th {\n",
       "        vertical-align: top;\n",
       "    }\n",
       "\n",
       "    .dataframe thead th {\n",
       "        text-align: right;\n",
       "    }\n",
       "</style>\n",
       "<table border=\"1\" class=\"dataframe\">\n",
       "  <thead>\n",
       "    <tr style=\"text-align: right;\">\n",
       "      <th></th>\n",
       "      <th>recency</th>\n",
       "      <th>frequency</th>\n",
       "      <th>monetary</th>\n",
       "    </tr>\n",
       "  </thead>\n",
       "  <tbody>\n",
       "    <tr>\n",
       "      <th>count</th>\n",
       "      <td>4339.00</td>\n",
       "      <td>4339.00</td>\n",
       "      <td>4339.00</td>\n",
       "    </tr>\n",
       "    <tr>\n",
       "      <th>mean</th>\n",
       "      <td>91.54</td>\n",
       "      <td>90.51</td>\n",
       "      <td>2048.22</td>\n",
       "    </tr>\n",
       "    <tr>\n",
       "      <th>std</th>\n",
       "      <td>99.99</td>\n",
       "      <td>225.52</td>\n",
       "      <td>8984.25</td>\n",
       "    </tr>\n",
       "    <tr>\n",
       "      <th>min</th>\n",
       "      <td>1.00</td>\n",
       "      <td>1.00</td>\n",
       "      <td>0.00</td>\n",
       "    </tr>\n",
       "    <tr>\n",
       "      <th>25%</th>\n",
       "      <td>17.00</td>\n",
       "      <td>17.00</td>\n",
       "      <td>306.46</td>\n",
       "    </tr>\n",
       "    <tr>\n",
       "      <th>50%</th>\n",
       "      <td>50.00</td>\n",
       "      <td>41.00</td>\n",
       "      <td>668.56</td>\n",
       "    </tr>\n",
       "    <tr>\n",
       "      <th>75%</th>\n",
       "      <td>141.00</td>\n",
       "      <td>98.00</td>\n",
       "      <td>1660.32</td>\n",
       "    </tr>\n",
       "    <tr>\n",
       "      <th>max</th>\n",
       "      <td>373.00</td>\n",
       "      <td>7676.00</td>\n",
       "      <td>280206.02</td>\n",
       "    </tr>\n",
       "  </tbody>\n",
       "</table>\n",
       "</div>"
      ],
      "text/plain": [
       "       recency  frequency   monetary\n",
       "count  4339.00    4339.00    4339.00\n",
       "mean     91.54      90.51    2048.22\n",
       "std      99.99     225.52    8984.25\n",
       "min       1.00       1.00       0.00\n",
       "25%      17.00      17.00     306.46\n",
       "50%      50.00      41.00     668.56\n",
       "75%     141.00      98.00    1660.32\n",
       "max     373.00    7676.00  280206.02"
      ]
     },
     "execution_count": 25,
     "metadata": {},
     "output_type": "execute_result"
    }
   ],
   "source": [
    "RFM_Table.describe().round(2)"
   ]
  },
  {
   "cell_type": "raw",
   "metadata": {},
   "source": [
    "We can also observe the statistics of RFM attributes leveraging the describe() function. We will use 25%, 50%, and 75% quantile values of these attributes shortly."
   ]
  },
  {
   "cell_type": "markdown",
   "metadata": {},
   "source": [
    "## Add 'r_quartile', 'f_quartile', 'm_quartile' columns to the RFM_Table:"
   ]
  },
  {
   "cell_type": "raw",
   "metadata": {},
   "source": [
    "Let's assume that we have arranged each customer in order based on either recency, frequency, or monetary values. We will divide our sorted lists into four segments and determine which segment each customer falls into. Consequently, instead of examining individual RFM values for customers, we will look into which segment they belong to. \n",
    "\n",
    "Customers in the fourth segment/quartile will be the best, while those in the first quartile will be the lowest-ranked customers for the respective RFM metric.\n",
    "\n",
    "We will now expand our RFM Table by adding columns that display RFM quartiles."
   ]
  },
  {
   "cell_type": "markdown",
   "metadata": {
    "_uuid": "9a7e3f664cfdaffe4990520dd4d4505437e823c1"
   },
   "source": [
    "***We will use the quartile method to create segments. We will split our customers into 4 segments.***"
   ]
  },
  {
   "cell_type": "markdown",
   "metadata": {
    "_uuid": "7f06b79fb98d49ca6affa85abba2bf406bd777cc"
   },
   "source": [
    "<img src=\"https://www.mathsisfun.com/data/images/quartiles-c.gif\" />"
   ]
  },
  {
   "cell_type": "raw",
   "metadata": {},
   "source": [
    " The source of the gif above: \"https://www.mathsisfun.com/data/images/quartiles-c.gif"
   ]
  },
  {
   "cell_type": "raw",
   "metadata": {},
   "source": [
    "We can employ different code blocks to add the 'r_quartile', 'f_quartile', and 'm_quartile' columns to the RFM Table."
   ]
  },
  {
   "cell_type": "raw",
   "metadata": {},
   "source": [
    "Our primary goal is to arrange customers based on RFM metrics and identify the thresholds that divide them into four segments.\n",
    "\n",
    "To illustrate, cutting a string into four parts requires making three cuts. Similarly, we'll identify these three positions/values where the divisions will occur. \n",
    "\n",
    "For this purpose, we can utilize the `quantile()` function or 'qcut()' function."
   ]
  },
  {
   "cell_type": "code",
   "execution_count": 26,
   "metadata": {},
   "outputs": [],
   "source": [
    "# Cut RFM metrics into 4 groups and label them:\n",
    "rfm_q = RFM_Table.copy()\n",
    "rfm_q[\"r_quartile\"] = pd.qcut(rfm_q[\"recency\"], 4, labels=[4, 3, 2, 1])\n",
    "rfm_q[\"f_quartile\"] = pd.qcut(rfm_q[\"frequency\"].rank(method=\"first\"), 4, labels=[1, 2, 3, 4])\n",
    "rfm_q[\"m_quartile\"] = pd.qcut(rfm_q[\"monetary\"], 4, labels=[1, 2, 3, 4])"
   ]
  },
  {
   "cell_type": "code",
   "execution_count": 27,
   "metadata": {},
   "outputs": [
    {
     "data": {
      "text/html": [
       "<div>\n",
       "<style scoped>\n",
       "    .dataframe tbody tr th:only-of-type {\n",
       "        vertical-align: middle;\n",
       "    }\n",
       "\n",
       "    .dataframe tbody tr th {\n",
       "        vertical-align: top;\n",
       "    }\n",
       "\n",
       "    .dataframe thead th {\n",
       "        text-align: right;\n",
       "    }\n",
       "</style>\n",
       "<table border=\"1\" class=\"dataframe\">\n",
       "  <thead>\n",
       "    <tr style=\"text-align: right;\">\n",
       "      <th></th>\n",
       "      <th>recency</th>\n",
       "      <th>frequency</th>\n",
       "      <th>monetary</th>\n",
       "      <th>r_quartile</th>\n",
       "      <th>f_quartile</th>\n",
       "      <th>m_quartile</th>\n",
       "    </tr>\n",
       "    <tr>\n",
       "      <th>CustomerID</th>\n",
       "      <th></th>\n",
       "      <th></th>\n",
       "      <th></th>\n",
       "      <th></th>\n",
       "      <th></th>\n",
       "      <th></th>\n",
       "    </tr>\n",
       "  </thead>\n",
       "  <tbody>\n",
       "    <tr>\n",
       "      <th>12346</th>\n",
       "      <td>325</td>\n",
       "      <td>1</td>\n",
       "      <td>77183.60</td>\n",
       "      <td>1</td>\n",
       "      <td>1</td>\n",
       "      <td>4</td>\n",
       "    </tr>\n",
       "    <tr>\n",
       "      <th>12347</th>\n",
       "      <td>1</td>\n",
       "      <td>182</td>\n",
       "      <td>4310.00</td>\n",
       "      <td>4</td>\n",
       "      <td>4</td>\n",
       "      <td>4</td>\n",
       "    </tr>\n",
       "    <tr>\n",
       "      <th>12348</th>\n",
       "      <td>74</td>\n",
       "      <td>31</td>\n",
       "      <td>1797.24</td>\n",
       "      <td>2</td>\n",
       "      <td>2</td>\n",
       "      <td>4</td>\n",
       "    </tr>\n",
       "    <tr>\n",
       "      <th>12349</th>\n",
       "      <td>18</td>\n",
       "      <td>73</td>\n",
       "      <td>1757.55</td>\n",
       "      <td>3</td>\n",
       "      <td>3</td>\n",
       "      <td>4</td>\n",
       "    </tr>\n",
       "    <tr>\n",
       "      <th>12350</th>\n",
       "      <td>309</td>\n",
       "      <td>17</td>\n",
       "      <td>334.40</td>\n",
       "      <td>1</td>\n",
       "      <td>1</td>\n",
       "      <td>2</td>\n",
       "    </tr>\n",
       "    <tr>\n",
       "      <th>...</th>\n",
       "      <td>...</td>\n",
       "      <td>...</td>\n",
       "      <td>...</td>\n",
       "      <td>...</td>\n",
       "      <td>...</td>\n",
       "      <td>...</td>\n",
       "    </tr>\n",
       "    <tr>\n",
       "      <th>18280</th>\n",
       "      <td>277</td>\n",
       "      <td>10</td>\n",
       "      <td>180.60</td>\n",
       "      <td>1</td>\n",
       "      <td>1</td>\n",
       "      <td>1</td>\n",
       "    </tr>\n",
       "    <tr>\n",
       "      <th>18281</th>\n",
       "      <td>180</td>\n",
       "      <td>7</td>\n",
       "      <td>80.82</td>\n",
       "      <td>1</td>\n",
       "      <td>1</td>\n",
       "      <td>1</td>\n",
       "    </tr>\n",
       "    <tr>\n",
       "      <th>18282</th>\n",
       "      <td>7</td>\n",
       "      <td>12</td>\n",
       "      <td>178.05</td>\n",
       "      <td>4</td>\n",
       "      <td>1</td>\n",
       "      <td>1</td>\n",
       "    </tr>\n",
       "    <tr>\n",
       "      <th>18283</th>\n",
       "      <td>3</td>\n",
       "      <td>721</td>\n",
       "      <td>2045.53</td>\n",
       "      <td>4</td>\n",
       "      <td>4</td>\n",
       "      <td>4</td>\n",
       "    </tr>\n",
       "    <tr>\n",
       "      <th>18287</th>\n",
       "      <td>42</td>\n",
       "      <td>70</td>\n",
       "      <td>1837.28</td>\n",
       "      <td>3</td>\n",
       "      <td>3</td>\n",
       "      <td>4</td>\n",
       "    </tr>\n",
       "  </tbody>\n",
       "</table>\n",
       "<p>4339 rows × 6 columns</p>\n",
       "</div>"
      ],
      "text/plain": [
       "            recency  frequency  monetary r_quartile f_quartile m_quartile\n",
       "CustomerID                                                               \n",
       "12346           325          1  77183.60          1          1          4\n",
       "12347             1        182   4310.00          4          4          4\n",
       "12348            74         31   1797.24          2          2          4\n",
       "12349            18         73   1757.55          3          3          4\n",
       "12350           309         17    334.40          1          1          2\n",
       "...             ...        ...       ...        ...        ...        ...\n",
       "18280           277         10    180.60          1          1          1\n",
       "18281           180          7     80.82          1          1          1\n",
       "18282             7         12    178.05          4          1          1\n",
       "18283             3        721   2045.53          4          4          4\n",
       "18287            42         70   1837.28          3          3          4\n",
       "\n",
       "[4339 rows x 6 columns]"
      ]
     },
     "execution_count": 27,
     "metadata": {},
     "output_type": "execute_result"
    }
   ],
   "source": [
    "rfm_q"
   ]
  },
  {
   "cell_type": "markdown",
   "metadata": {},
   "source": [
    "The code above uses qcut() function to identify the cutting thresholds (quartiles). Let’s look at the code:\n",
    "\n",
    "***rfm_q[\"r_quartile\"] = pd.qcut(rfm_q[\"recency\"], 4, labels=[4, 3, 2, 1]):*** Divides the \"recency\" column into 4 quartiles using `pd.qcut()`. Assigns labels 4, 3, 2, 1 to these quartiles, where 4 represents the most recent customers and 1 represents the least recent.\n",
    "\n",
    "***rfm_q[\"f_quartile\"] = pd.qcut(rfm_q[\"frequency\"].rank(method=\"first\"), 4, labels=[1, 2, 3, 4]):*** Calculates the rank of the \"frequency\" column and divides it into 4 quartiles using `pd.qcut()`. Assigns labels 1, 2, 3, 4 to these quartiles, likely ordering customers by their frequency, where 1 represents the least frequent and 4 represents the most frequent.\n",
    "\n",
    "***rfm_q[\"m_quartile\"] = pd.qcut(rfm_q[\"monetary\"], 4, labels=[1, 2, 3, 4]):*** Divides the \"monetary\" column into 4 quartiles using `pd.qcut()`. Assigns labels 1, 2, 3, 4 to these quartiles, where 1 represents the lowest-spending customers and 4 represents the highest-spending.\n",
    "\n",
    "This approach enables the segmentation of customers into four distinct groups based on their RFM metrics, allowing for easier analysis and identification of customer behavior patterns."
   ]
  },
  {
   "cell_type": "markdown",
   "metadata": {
    "ExecuteTime": {
     "end_time": "2023-11-23T19:08:11.855353Z",
     "start_time": "2023-11-23T19:08:11.848903Z"
    }
   },
   "source": [
    "##  Combine RFM quartiles and add as a new column to the RFM Table:"
   ]
  },
  {
   "cell_type": "raw",
   "metadata": {},
   "source": [
    "In the third step, we'll incorporate the merged “RFM_quartiles” as a new column into our RFM Table.\n",
    "\n",
    "We will generate a new column named 'RFM_quartiles' writing the code below. This new column consolidates the individual quartile values of 'r_quartile', 'f_quartile', and 'm_quartile' as strings concatenated together, enabling the representation of merged quartile segments for each customer in a single column."
   ]
  },
  {
   "cell_type": "code",
   "execution_count": 28,
   "metadata": {},
   "outputs": [],
   "source": [
    "# Combine RFM quartiles and add as a new column\n",
    "\n",
    "RFM = rfm_q.copy()\n",
    "RFM[\"RFM_quartiles\"] =  RFM['r_quartile'].astype(str) +\\\n",
    "                        RFM['f_quartile'].astype(str) +\\\n",
    "                        RFM['m_quartile'].astype(str)"
   ]
  },
  {
   "cell_type": "code",
   "execution_count": 29,
   "metadata": {},
   "outputs": [
    {
     "data": {
      "text/html": [
       "<div>\n",
       "<style scoped>\n",
       "    .dataframe tbody tr th:only-of-type {\n",
       "        vertical-align: middle;\n",
       "    }\n",
       "\n",
       "    .dataframe tbody tr th {\n",
       "        vertical-align: top;\n",
       "    }\n",
       "\n",
       "    .dataframe thead th {\n",
       "        text-align: right;\n",
       "    }\n",
       "</style>\n",
       "<table border=\"1\" class=\"dataframe\">\n",
       "  <thead>\n",
       "    <tr style=\"text-align: right;\">\n",
       "      <th></th>\n",
       "      <th>recency</th>\n",
       "      <th>frequency</th>\n",
       "      <th>monetary</th>\n",
       "      <th>r_quartile</th>\n",
       "      <th>f_quartile</th>\n",
       "      <th>m_quartile</th>\n",
       "      <th>RFM_quartiles</th>\n",
       "    </tr>\n",
       "    <tr>\n",
       "      <th>CustomerID</th>\n",
       "      <th></th>\n",
       "      <th></th>\n",
       "      <th></th>\n",
       "      <th></th>\n",
       "      <th></th>\n",
       "      <th></th>\n",
       "      <th></th>\n",
       "    </tr>\n",
       "  </thead>\n",
       "  <tbody>\n",
       "    <tr>\n",
       "      <th>12346</th>\n",
       "      <td>325</td>\n",
       "      <td>1</td>\n",
       "      <td>77183.60</td>\n",
       "      <td>1</td>\n",
       "      <td>1</td>\n",
       "      <td>4</td>\n",
       "      <td>114</td>\n",
       "    </tr>\n",
       "    <tr>\n",
       "      <th>12347</th>\n",
       "      <td>1</td>\n",
       "      <td>182</td>\n",
       "      <td>4310.00</td>\n",
       "      <td>4</td>\n",
       "      <td>4</td>\n",
       "      <td>4</td>\n",
       "      <td>444</td>\n",
       "    </tr>\n",
       "    <tr>\n",
       "      <th>12348</th>\n",
       "      <td>74</td>\n",
       "      <td>31</td>\n",
       "      <td>1797.24</td>\n",
       "      <td>2</td>\n",
       "      <td>2</td>\n",
       "      <td>4</td>\n",
       "      <td>224</td>\n",
       "    </tr>\n",
       "    <tr>\n",
       "      <th>12349</th>\n",
       "      <td>18</td>\n",
       "      <td>73</td>\n",
       "      <td>1757.55</td>\n",
       "      <td>3</td>\n",
       "      <td>3</td>\n",
       "      <td>4</td>\n",
       "      <td>334</td>\n",
       "    </tr>\n",
       "    <tr>\n",
       "      <th>12350</th>\n",
       "      <td>309</td>\n",
       "      <td>17</td>\n",
       "      <td>334.40</td>\n",
       "      <td>1</td>\n",
       "      <td>1</td>\n",
       "      <td>2</td>\n",
       "      <td>112</td>\n",
       "    </tr>\n",
       "    <tr>\n",
       "      <th>...</th>\n",
       "      <td>...</td>\n",
       "      <td>...</td>\n",
       "      <td>...</td>\n",
       "      <td>...</td>\n",
       "      <td>...</td>\n",
       "      <td>...</td>\n",
       "      <td>...</td>\n",
       "    </tr>\n",
       "    <tr>\n",
       "      <th>18280</th>\n",
       "      <td>277</td>\n",
       "      <td>10</td>\n",
       "      <td>180.60</td>\n",
       "      <td>1</td>\n",
       "      <td>1</td>\n",
       "      <td>1</td>\n",
       "      <td>111</td>\n",
       "    </tr>\n",
       "    <tr>\n",
       "      <th>18281</th>\n",
       "      <td>180</td>\n",
       "      <td>7</td>\n",
       "      <td>80.82</td>\n",
       "      <td>1</td>\n",
       "      <td>1</td>\n",
       "      <td>1</td>\n",
       "      <td>111</td>\n",
       "    </tr>\n",
       "    <tr>\n",
       "      <th>18282</th>\n",
       "      <td>7</td>\n",
       "      <td>12</td>\n",
       "      <td>178.05</td>\n",
       "      <td>4</td>\n",
       "      <td>1</td>\n",
       "      <td>1</td>\n",
       "      <td>411</td>\n",
       "    </tr>\n",
       "    <tr>\n",
       "      <th>18283</th>\n",
       "      <td>3</td>\n",
       "      <td>721</td>\n",
       "      <td>2045.53</td>\n",
       "      <td>4</td>\n",
       "      <td>4</td>\n",
       "      <td>4</td>\n",
       "      <td>444</td>\n",
       "    </tr>\n",
       "    <tr>\n",
       "      <th>18287</th>\n",
       "      <td>42</td>\n",
       "      <td>70</td>\n",
       "      <td>1837.28</td>\n",
       "      <td>3</td>\n",
       "      <td>3</td>\n",
       "      <td>4</td>\n",
       "      <td>334</td>\n",
       "    </tr>\n",
       "  </tbody>\n",
       "</table>\n",
       "<p>4339 rows × 7 columns</p>\n",
       "</div>"
      ],
      "text/plain": [
       "            recency  frequency  monetary r_quartile f_quartile m_quartile  \\\n",
       "CustomerID                                                                  \n",
       "12346           325          1  77183.60          1          1          4   \n",
       "12347             1        182   4310.00          4          4          4   \n",
       "12348            74         31   1797.24          2          2          4   \n",
       "12349            18         73   1757.55          3          3          4   \n",
       "12350           309         17    334.40          1          1          2   \n",
       "...             ...        ...       ...        ...        ...        ...   \n",
       "18280           277         10    180.60          1          1          1   \n",
       "18281           180          7     80.82          1          1          1   \n",
       "18282             7         12    178.05          4          1          1   \n",
       "18283             3        721   2045.53          4          4          4   \n",
       "18287            42         70   1837.28          3          3          4   \n",
       "\n",
       "           RFM_quartiles  \n",
       "CustomerID                \n",
       "12346                114  \n",
       "12347                444  \n",
       "12348                224  \n",
       "12349                334  \n",
       "12350                112  \n",
       "...                  ...  \n",
       "18280                111  \n",
       "18281                111  \n",
       "18282                411  \n",
       "18283                444  \n",
       "18287                334  \n",
       "\n",
       "[4339 rows x 7 columns]"
      ]
     },
     "execution_count": 29,
     "metadata": {},
     "output_type": "execute_result"
    }
   ],
   "source": [
    "RFM"
   ]
  },
  {
   "cell_type": "raw",
   "metadata": {},
   "source": [
    "Segmenting customers into RFM quartiles, particularly through the 'RFM_quartiles' column, offers businesses a comprehensive view of customer behavior. Grouping customers based on RFM metrics and consolidating them into quartiles simplifies analysis. It condenses multidimensional data into manageable segments, easing comparative assessments.\n",
    "\n",
    "Each quartile represents a distinct customer behavior pattern. For instance, the '444' segment denotes the most recent, frequent, and high-spending customers, indicating significant potential for revenue and loyalty.\n",
    "\n",
    "Segmentation allows identification of different segments such as high-value customers. Understanding these segments enables tailored strategies, like targeted marketing or retention initiatives, specific to each group's preferences. This might involve exclusive offers, loyalty programs, or personalized experiences to further engage and retain these valuable customers.\n",
    "\n",
    "Observing the patterns of each segment over time helps in predicting future behavior. Tracking changes in their engagement or spending habits might indicate shifts in preferences or potential churn risks, allowing proactive measures to be taken."
   ]
  },
  {
   "cell_type": "code",
   "execution_count": 30,
   "metadata": {
    "_uuid": "6a77f38a7593e17781cb5caa8c969db12f7d5e73"
   },
   "outputs": [],
   "source": [
    "# Display Top 5 Customers based on RFM_quartiles, sort by Monetary"
   ]
  },
  {
   "cell_type": "code",
   "execution_count": 31,
   "metadata": {
    "ExecuteTime": {
     "end_time": "2023-11-23T19:08:15.134091Z",
     "start_time": "2023-11-23T19:08:15.098047Z"
    },
    "_uuid": "4aaea1a6f7c53fcbb986b8ed9dcee1b1ba8ab6e2"
   },
   "outputs": [
    {
     "data": {
      "text/html": [
       "<div>\n",
       "<style scoped>\n",
       "    .dataframe tbody tr th:only-of-type {\n",
       "        vertical-align: middle;\n",
       "    }\n",
       "\n",
       "    .dataframe tbody tr th {\n",
       "        vertical-align: top;\n",
       "    }\n",
       "\n",
       "    .dataframe thead th {\n",
       "        text-align: right;\n",
       "    }\n",
       "</style>\n",
       "<table border=\"1\" class=\"dataframe\">\n",
       "  <thead>\n",
       "    <tr style=\"text-align: right;\">\n",
       "      <th></th>\n",
       "      <th>recency</th>\n",
       "      <th>frequency</th>\n",
       "      <th>monetary</th>\n",
       "      <th>r_quartile</th>\n",
       "      <th>f_quartile</th>\n",
       "      <th>m_quartile</th>\n",
       "      <th>RFM_quartiles</th>\n",
       "    </tr>\n",
       "    <tr>\n",
       "      <th>CustomerID</th>\n",
       "      <th></th>\n",
       "      <th></th>\n",
       "      <th></th>\n",
       "      <th></th>\n",
       "      <th></th>\n",
       "      <th></th>\n",
       "      <th></th>\n",
       "    </tr>\n",
       "  </thead>\n",
       "  <tbody>\n",
       "    <tr>\n",
       "      <th>14646</th>\n",
       "      <td>1</td>\n",
       "      <td>2080</td>\n",
       "      <td>280206.02</td>\n",
       "      <td>4</td>\n",
       "      <td>4</td>\n",
       "      <td>4</td>\n",
       "      <td>444</td>\n",
       "    </tr>\n",
       "    <tr>\n",
       "      <th>18102</th>\n",
       "      <td>1</td>\n",
       "      <td>431</td>\n",
       "      <td>259657.30</td>\n",
       "      <td>4</td>\n",
       "      <td>4</td>\n",
       "      <td>4</td>\n",
       "      <td>444</td>\n",
       "    </tr>\n",
       "    <tr>\n",
       "      <th>17450</th>\n",
       "      <td>7</td>\n",
       "      <td>336</td>\n",
       "      <td>194390.79</td>\n",
       "      <td>4</td>\n",
       "      <td>4</td>\n",
       "      <td>4</td>\n",
       "      <td>444</td>\n",
       "    </tr>\n",
       "    <tr>\n",
       "      <th>14911</th>\n",
       "      <td>1</td>\n",
       "      <td>5672</td>\n",
       "      <td>143711.17</td>\n",
       "      <td>4</td>\n",
       "      <td>4</td>\n",
       "      <td>4</td>\n",
       "      <td>444</td>\n",
       "    </tr>\n",
       "    <tr>\n",
       "      <th>14156</th>\n",
       "      <td>9</td>\n",
       "      <td>1395</td>\n",
       "      <td>117210.08</td>\n",
       "      <td>4</td>\n",
       "      <td>4</td>\n",
       "      <td>4</td>\n",
       "      <td>444</td>\n",
       "    </tr>\n",
       "  </tbody>\n",
       "</table>\n",
       "</div>"
      ],
      "text/plain": [
       "            recency  frequency   monetary r_quartile f_quartile m_quartile  \\\n",
       "CustomerID                                                                   \n",
       "14646             1       2080  280206.02          4          4          4   \n",
       "18102             1        431  259657.30          4          4          4   \n",
       "17450             7        336  194390.79          4          4          4   \n",
       "14911             1       5672  143711.17          4          4          4   \n",
       "14156             9       1395  117210.08          4          4          4   \n",
       "\n",
       "           RFM_quartiles  \n",
       "CustomerID                \n",
       "14646                444  \n",
       "18102                444  \n",
       "17450                444  \n",
       "14911                444  \n",
       "14156                444  "
      ]
     },
     "execution_count": 31,
     "metadata": {},
     "output_type": "execute_result"
    }
   ],
   "source": [
    "RFM[RFM['RFM_quartiles']=='444'].sort_values('monetary', ascending=False).head()\n"
   ]
  },
  {
   "cell_type": "code",
   "execution_count": 32,
   "metadata": {
    "_uuid": "257147d40c2b341aeebb32f3beca000e909c6334"
   },
   "outputs": [],
   "source": [
    "# Display the transactions of Nu.1 Customer (CustomerID 14646)"
   ]
  },
  {
   "cell_type": "code",
   "execution_count": 33,
   "metadata": {
    "ExecuteTime": {
     "end_time": "2023-11-23T19:08:16.060481Z",
     "start_time": "2023-11-23T19:08:15.986921Z"
    },
    "_uuid": "72007dab6f496a710d6abbd629d6835bd0da8ad7"
   },
   "outputs": [
    {
     "data": {
      "text/html": [
       "<div>\n",
       "<style scoped>\n",
       "    .dataframe tbody tr th:only-of-type {\n",
       "        vertical-align: middle;\n",
       "    }\n",
       "\n",
       "    .dataframe tbody tr th {\n",
       "        vertical-align: top;\n",
       "    }\n",
       "\n",
       "    .dataframe thead th {\n",
       "        text-align: right;\n",
       "    }\n",
       "</style>\n",
       "<table border=\"1\" class=\"dataframe\">\n",
       "  <thead>\n",
       "    <tr style=\"text-align: right;\">\n",
       "      <th></th>\n",
       "      <th>InvoiceNo</th>\n",
       "      <th>StockCode</th>\n",
       "      <th>Description</th>\n",
       "      <th>Quantity</th>\n",
       "      <th>InvoiceDate</th>\n",
       "      <th>UnitPrice</th>\n",
       "      <th>CustomerID</th>\n",
       "      <th>Country</th>\n",
       "      <th>Revenue</th>\n",
       "    </tr>\n",
       "  </thead>\n",
       "  <tbody>\n",
       "    <tr>\n",
       "      <th>37952</th>\n",
       "      <td>539491.0</td>\n",
       "      <td>21981.0</td>\n",
       "      <td>PACK OF 12 WOODLAND TISSUES</td>\n",
       "      <td>12.0</td>\n",
       "      <td>2010-12-20 10:09:00</td>\n",
       "      <td>0.29</td>\n",
       "      <td>14646</td>\n",
       "      <td>Netherlands</td>\n",
       "      <td>3.48</td>\n",
       "    </tr>\n",
       "    <tr>\n",
       "      <th>37953</th>\n",
       "      <td>539491.0</td>\n",
       "      <td>21986.0</td>\n",
       "      <td>PACK OF 12 PINK POLKADOT TISSUES</td>\n",
       "      <td>12.0</td>\n",
       "      <td>2010-12-20 10:09:00</td>\n",
       "      <td>0.29</td>\n",
       "      <td>14646</td>\n",
       "      <td>Netherlands</td>\n",
       "      <td>3.48</td>\n",
       "    </tr>\n",
       "    <tr>\n",
       "      <th>37954</th>\n",
       "      <td>539491.0</td>\n",
       "      <td>22720.0</td>\n",
       "      <td>SET OF 3 CAKE TINS PANTRY DESIGN</td>\n",
       "      <td>2.0</td>\n",
       "      <td>2010-12-20 10:09:00</td>\n",
       "      <td>4.95</td>\n",
       "      <td>14646</td>\n",
       "      <td>Netherlands</td>\n",
       "      <td>9.90</td>\n",
       "    </tr>\n",
       "    <tr>\n",
       "      <th>37955</th>\n",
       "      <td>539491.0</td>\n",
       "      <td>21931.0</td>\n",
       "      <td>JUMBO STORAGE BAG SUKI</td>\n",
       "      <td>1.0</td>\n",
       "      <td>2010-12-20 10:09:00</td>\n",
       "      <td>1.95</td>\n",
       "      <td>14646</td>\n",
       "      <td>Netherlands</td>\n",
       "      <td>1.95</td>\n",
       "    </tr>\n",
       "    <tr>\n",
       "      <th>37956</th>\n",
       "      <td>539491.0</td>\n",
       "      <td>22613.0</td>\n",
       "      <td>PACK OF 20 SPACEBOY NAPKINS</td>\n",
       "      <td>2.0</td>\n",
       "      <td>2010-12-20 10:09:00</td>\n",
       "      <td>0.85</td>\n",
       "      <td>14646</td>\n",
       "      <td>Netherlands</td>\n",
       "      <td>1.70</td>\n",
       "    </tr>\n",
       "    <tr>\n",
       "      <th>37957</th>\n",
       "      <td>539491.0</td>\n",
       "      <td>20751.0</td>\n",
       "      <td>FUNKY WASHING UP GLOVES ASSORTED</td>\n",
       "      <td>1.0</td>\n",
       "      <td>2010-12-20 10:09:00</td>\n",
       "      <td>2.10</td>\n",
       "      <td>14646</td>\n",
       "      <td>Netherlands</td>\n",
       "      <td>2.10</td>\n",
       "    </tr>\n",
       "    <tr>\n",
       "      <th>37958</th>\n",
       "      <td>539491.0</td>\n",
       "      <td>21246.0</td>\n",
       "      <td>RED RETROSPOT BIG BOWL</td>\n",
       "      <td>2.0</td>\n",
       "      <td>2010-12-20 10:09:00</td>\n",
       "      <td>4.95</td>\n",
       "      <td>14646</td>\n",
       "      <td>Netherlands</td>\n",
       "      <td>9.90</td>\n",
       "    </tr>\n",
       "    <tr>\n",
       "      <th>37959</th>\n",
       "      <td>539491.0</td>\n",
       "      <td>22960.0</td>\n",
       "      <td>JAM MAKING SET WITH JARS</td>\n",
       "      <td>1.0</td>\n",
       "      <td>2010-12-20 10:09:00</td>\n",
       "      <td>4.25</td>\n",
       "      <td>14646</td>\n",
       "      <td>Netherlands</td>\n",
       "      <td>4.25</td>\n",
       "    </tr>\n",
       "    <tr>\n",
       "      <th>37960</th>\n",
       "      <td>539491.0</td>\n",
       "      <td>22355.0</td>\n",
       "      <td>CHARLOTTE BAG SUKI DESIGN</td>\n",
       "      <td>2.0</td>\n",
       "      <td>2010-12-20 10:09:00</td>\n",
       "      <td>0.85</td>\n",
       "      <td>14646</td>\n",
       "      <td>Netherlands</td>\n",
       "      <td>1.70</td>\n",
       "    </tr>\n",
       "    <tr>\n",
       "      <th>37961</th>\n",
       "      <td>539491.0</td>\n",
       "      <td>21123.0</td>\n",
       "      <td>SET/10 IVORY POLKADOT PARTY CANDLES</td>\n",
       "      <td>2.0</td>\n",
       "      <td>2010-12-20 10:09:00</td>\n",
       "      <td>1.25</td>\n",
       "      <td>14646</td>\n",
       "      <td>Netherlands</td>\n",
       "      <td>2.50</td>\n",
       "    </tr>\n",
       "    <tr>\n",
       "      <th>37962</th>\n",
       "      <td>539491.0</td>\n",
       "      <td>47599A</td>\n",
       "      <td>PINK PARTY BAGS</td>\n",
       "      <td>2.0</td>\n",
       "      <td>2010-12-20 10:09:00</td>\n",
       "      <td>2.10</td>\n",
       "      <td>14646</td>\n",
       "      <td>Netherlands</td>\n",
       "      <td>4.20</td>\n",
       "    </tr>\n",
       "    <tr>\n",
       "      <th>37963</th>\n",
       "      <td>539491.0</td>\n",
       "      <td>22331.0</td>\n",
       "      <td>WOODLAND PARTY BAG + STICKER SET</td>\n",
       "      <td>2.0</td>\n",
       "      <td>2010-12-20 10:09:00</td>\n",
       "      <td>1.65</td>\n",
       "      <td>14646</td>\n",
       "      <td>Netherlands</td>\n",
       "      <td>3.30</td>\n",
       "    </tr>\n",
       "    <tr>\n",
       "      <th>37964</th>\n",
       "      <td>539491.0</td>\n",
       "      <td>22333.0</td>\n",
       "      <td>RETROSPOT PARTY BAG + STICKER SET</td>\n",
       "      <td>2.0</td>\n",
       "      <td>2010-12-20 10:09:00</td>\n",
       "      <td>1.65</td>\n",
       "      <td>14646</td>\n",
       "      <td>Netherlands</td>\n",
       "      <td>3.30</td>\n",
       "    </tr>\n",
       "    <tr>\n",
       "      <th>37965</th>\n",
       "      <td>539491.0</td>\n",
       "      <td>22315.0</td>\n",
       "      <td>200 RED + WHITE BENDY STRAWS</td>\n",
       "      <td>1.0</td>\n",
       "      <td>2010-12-20 10:09:00</td>\n",
       "      <td>1.25</td>\n",
       "      <td>14646</td>\n",
       "      <td>Netherlands</td>\n",
       "      <td>1.25</td>\n",
       "    </tr>\n",
       "    <tr>\n",
       "      <th>37966</th>\n",
       "      <td>539491.0</td>\n",
       "      <td>22445.0</td>\n",
       "      <td>PENCIL CASE LIFE IS BEAUTIFUL</td>\n",
       "      <td>1.0</td>\n",
       "      <td>2010-12-20 10:09:00</td>\n",
       "      <td>2.95</td>\n",
       "      <td>14646</td>\n",
       "      <td>Netherlands</td>\n",
       "      <td>2.95</td>\n",
       "    </tr>\n",
       "    <tr>\n",
       "      <th>37967</th>\n",
       "      <td>539491.0</td>\n",
       "      <td>POST</td>\n",
       "      <td>POSTAGE</td>\n",
       "      <td>1.0</td>\n",
       "      <td>2010-12-20 10:09:00</td>\n",
       "      <td>15.00</td>\n",
       "      <td>14646</td>\n",
       "      <td>Netherlands</td>\n",
       "      <td>15.00</td>\n",
       "    </tr>\n",
       "    <tr>\n",
       "      <th>40190</th>\n",
       "      <td>539731.0</td>\n",
       "      <td>21212.0</td>\n",
       "      <td>PACK OF 72 RETROSPOT CAKE CASES</td>\n",
       "      <td>240.0</td>\n",
       "      <td>2010-12-21 15:05:00</td>\n",
       "      <td>0.42</td>\n",
       "      <td>14646</td>\n",
       "      <td>Netherlands</td>\n",
       "      <td>100.80</td>\n",
       "    </tr>\n",
       "    <tr>\n",
       "      <th>40191</th>\n",
       "      <td>539731.0</td>\n",
       "      <td>22858.0</td>\n",
       "      <td>EASTER TIN KEEPSAKE</td>\n",
       "      <td>108.0</td>\n",
       "      <td>2010-12-21 15:05:00</td>\n",
       "      <td>1.45</td>\n",
       "      <td>14646</td>\n",
       "      <td>Netherlands</td>\n",
       "      <td>156.60</td>\n",
       "    </tr>\n",
       "    <tr>\n",
       "      <th>40192</th>\n",
       "      <td>539731.0</td>\n",
       "      <td>84459A</td>\n",
       "      <td>PINK METAL CHICKEN HEART</td>\n",
       "      <td>192.0</td>\n",
       "      <td>2010-12-21 15:05:00</td>\n",
       "      <td>1.25</td>\n",
       "      <td>14646</td>\n",
       "      <td>Netherlands</td>\n",
       "      <td>240.00</td>\n",
       "    </tr>\n",
       "    <tr>\n",
       "      <th>40193</th>\n",
       "      <td>539731.0</td>\n",
       "      <td>84459B</td>\n",
       "      <td>YELLOW METAL CHICKEN HEART</td>\n",
       "      <td>192.0</td>\n",
       "      <td>2010-12-21 15:05:00</td>\n",
       "      <td>1.25</td>\n",
       "      <td>14646</td>\n",
       "      <td>Netherlands</td>\n",
       "      <td>240.00</td>\n",
       "    </tr>\n",
       "  </tbody>\n",
       "</table>\n",
       "</div>"
      ],
      "text/plain": [
       "      InvoiceNo StockCode                          Description  Quantity  \\\n",
       "37952  539491.0   21981.0         PACK OF 12 WOODLAND TISSUES       12.0   \n",
       "37953  539491.0   21986.0     PACK OF 12 PINK POLKADOT TISSUES      12.0   \n",
       "37954  539491.0   22720.0    SET OF 3 CAKE TINS PANTRY DESIGN        2.0   \n",
       "37955  539491.0   21931.0               JUMBO STORAGE BAG SUKI       1.0   \n",
       "37956  539491.0   22613.0          PACK OF 20 SPACEBOY NAPKINS       2.0   \n",
       "37957  539491.0   20751.0     FUNKY WASHING UP GLOVES ASSORTED       1.0   \n",
       "37958  539491.0   21246.0               RED RETROSPOT BIG BOWL       2.0   \n",
       "37959  539491.0   22960.0             JAM MAKING SET WITH JARS       1.0   \n",
       "37960  539491.0   22355.0            CHARLOTTE BAG SUKI DESIGN       2.0   \n",
       "37961  539491.0   21123.0  SET/10 IVORY POLKADOT PARTY CANDLES       2.0   \n",
       "37962  539491.0    47599A                      PINK PARTY BAGS       2.0   \n",
       "37963  539491.0   22331.0     WOODLAND PARTY BAG + STICKER SET       2.0   \n",
       "37964  539491.0   22333.0    RETROSPOT PARTY BAG + STICKER SET       2.0   \n",
       "37965  539491.0   22315.0         200 RED + WHITE BENDY STRAWS       1.0   \n",
       "37966  539491.0   22445.0        PENCIL CASE LIFE IS BEAUTIFUL       1.0   \n",
       "37967  539491.0      POST                              POSTAGE       1.0   \n",
       "40190  539731.0   21212.0      PACK OF 72 RETROSPOT CAKE CASES     240.0   \n",
       "40191  539731.0   22858.0                  EASTER TIN KEEPSAKE     108.0   \n",
       "40192  539731.0    84459A            PINK METAL CHICKEN HEART      192.0   \n",
       "40193  539731.0    84459B          YELLOW METAL CHICKEN HEART      192.0   \n",
       "\n",
       "              InvoiceDate  UnitPrice CustomerID      Country  Revenue  \n",
       "37952 2010-12-20 10:09:00       0.29      14646  Netherlands     3.48  \n",
       "37953 2010-12-20 10:09:00       0.29      14646  Netherlands     3.48  \n",
       "37954 2010-12-20 10:09:00       4.95      14646  Netherlands     9.90  \n",
       "37955 2010-12-20 10:09:00       1.95      14646  Netherlands     1.95  \n",
       "37956 2010-12-20 10:09:00       0.85      14646  Netherlands     1.70  \n",
       "37957 2010-12-20 10:09:00       2.10      14646  Netherlands     2.10  \n",
       "37958 2010-12-20 10:09:00       4.95      14646  Netherlands     9.90  \n",
       "37959 2010-12-20 10:09:00       4.25      14646  Netherlands     4.25  \n",
       "37960 2010-12-20 10:09:00       0.85      14646  Netherlands     1.70  \n",
       "37961 2010-12-20 10:09:00       1.25      14646  Netherlands     2.50  \n",
       "37962 2010-12-20 10:09:00       2.10      14646  Netherlands     4.20  \n",
       "37963 2010-12-20 10:09:00       1.65      14646  Netherlands     3.30  \n",
       "37964 2010-12-20 10:09:00       1.65      14646  Netherlands     3.30  \n",
       "37965 2010-12-20 10:09:00       1.25      14646  Netherlands     1.25  \n",
       "37966 2010-12-20 10:09:00       2.95      14646  Netherlands     2.95  \n",
       "37967 2010-12-20 10:09:00      15.00      14646  Netherlands    15.00  \n",
       "40190 2010-12-21 15:05:00       0.42      14646  Netherlands   100.80  \n",
       "40191 2010-12-21 15:05:00       1.45      14646  Netherlands   156.60  \n",
       "40192 2010-12-21 15:05:00       1.25      14646  Netherlands   240.00  \n",
       "40193 2010-12-21 15:05:00       1.25      14646  Netherlands   240.00  "
      ]
     },
     "execution_count": 33,
     "metadata": {},
     "output_type": "execute_result"
    }
   ],
   "source": [
    "top_customer = df[df['CustomerID'] == \"14646\"]\n",
    "top_customer.head(20)"
   ]
  },
  {
   "cell_type": "markdown",
   "metadata": {},
   "source": [
    "## Define Customer Segments using RFM quartiles"
   ]
  },
  {
   "cell_type": "raw",
   "metadata": {},
   "source": [
    "When each RFM attribute—recency, frequency, and monetary— is segmented into four levels (ranging from 1 to 4), combining these three attributes results in a total segment combination of 4 x 4 x 4 = 64 (such as '111' to '444'). However, individually tracking, and devising strategies for each of these 64 segments can become challenging. Hence, there arises a need to rationalize and group these segments effectively to streamline analysis and strategy development in a more manageable manner.\n",
    "\n",
    "The chart below illustrates the distribution of total customers based on their RFM quartiles."
   ]
  },
  {
   "cell_type": "code",
   "execution_count": 34,
   "metadata": {
    "ExecuteTime": {
     "end_time": "2023-11-23T19:10:16.990540Z",
     "start_time": "2023-11-23T19:10:14.795073Z"
    }
   },
   "outputs": [
    {
     "data": {
      "image/png": "[encoded data removed]",
      "text/plain": [
       "<Figure size 2000x800 with 1 Axes>"
      ]
     },
     "metadata": {},
     "output_type": "display_data"
    }
   ],
   "source": [
    "plt.figure(figsize=(20, 8))\n",
    "ax=RFM.groupby(['RFM_quartiles']).size().plot.bar()\n",
    "plt.title(\"RFM Quartiles\", fontsize=16)\n",
    "for p in ax.containers:\n",
    "    ax.bar_label(p, fmt=\"%.0f\");"
   ]
  },
  {
   "cell_type": "code",
   "execution_count": 35,
   "metadata": {
    "ExecuteTime": {
     "end_time": "2023-11-23T19:10:12.273806Z",
     "start_time": "2023-11-23T19:10:09.827727Z"
    }
   },
   "outputs": [
    {
     "data": {
      "image/png": "[encoded data removed]",
      "text/plain": [
       "<Figure size 2000x800 with 1 Axes>"
      ]
     },
     "metadata": {},
     "output_type": "display_data"
    }
   ],
   "source": [
    "plt.figure(figsize=(20, 8))\n",
    "ax=RFM.groupby(['RFM_quartiles']).size().sort_values(ascending=False).plot.bar()\n",
    "plt.title(\"RFM Quartiles\", fontsize=16)\n",
    "\n",
    "for p in ax.containers:\n",
    "    ax.bar_label(p, fmt=\"%.0f\", fontsize=12, rotation=60)\n",
    "plt.xticks(rotation = 90, fontsize=8);"
   ]
  },
  {
   "cell_type": "code",
   "execution_count": 36,
   "metadata": {
    "ExecuteTime": {
     "end_time": "2023-11-23T19:10:20.042045Z",
     "start_time": "2023-11-23T19:10:19.104107Z"
    }
   },
   "outputs": [
    {
     "data": {
      "image/png": "[encoded data removed]",
      "text/plain": [
       "<Figure size 1600x800 with 1 Axes>"
      ]
     },
     "metadata": {},
     "output_type": "display_data"
    }
   ],
   "source": [
    "plt.figure(figsize=(16, 8))\n",
    "ax=RFM.groupby(['RFM_quartiles']).size()[0:15].sort_values().plot.bar()\n",
    "plt.title(\"Distribution of Customers with high (bad) Recency\", fontsize=16)\n",
    "plt.xticks(rotation = 0, fontsize=16);\n",
    "for p in ax.containers:\n",
    "    ax.bar_label(p, fmt=\"%.0f\",fontsize=16);"
   ]
  },
  {
   "cell_type": "code",
   "execution_count": 37,
   "metadata": {
    "ExecuteTime": {
     "end_time": "2023-11-23T19:10:21.122584Z",
     "start_time": "2023-11-23T19:10:20.241976Z"
    }
   },
   "outputs": [
    {
     "data": {
      "image/png": "[encoded data removed]",
      "text/plain": [
       "<Figure size 1600x800 with 1 Axes>"
      ]
     },
     "metadata": {},
     "output_type": "display_data"
    }
   ],
   "source": [
    "plt.figure(figsize=(16, 8))\n",
    "ax=RFM.groupby(['RFM_quartiles']).size()[45:61].sort_values().plot.bar()\n",
    "plt.title(\"Distribution of Customers with good Recency\", fontsize=16)\n",
    "plt.xticks(rotation = 0, fontsize=16);\n",
    "for p in ax.containers:\n",
    "    ax.bar_label(p, fmt=\"%.0f\",fontsize=16);"
   ]
  },
  {
   "cell_type": "raw",
   "metadata": {},
   "source": [
    "Now, in the fourth step, we'll proceed with the grouping process of these (maximum 64) segments."
   ]
  },
  {
   "cell_type": "raw",
   "metadata": {},
   "source": [
    "We will add a final column named “Segments” to RFM_Table using the code below. This code segments customers by evaluating their RFM quartile patterns against predefined criteria, assigning them to specific segments that represent distinct customer behavior groups. This code defines a segmentation classifier function called 'classifier'. It aims to assign segment names ('Champions', 'Loyal Customers', 'Potential Loyalist', etc.) based on the RFM quartiles.\n",
    "\n",
    "• A dictionary called 'Segments' contains segment names and their corresponding RFM quartile patterns."
   ]
  },
  {
   "cell_type": "code",
   "execution_count": 38,
   "metadata": {
    "ExecuteTime": {
     "end_time": "2023-11-23T19:08:16.808294Z",
     "start_time": "2023-11-23T19:08:16.787178Z"
    },
    "run_control": {
     "marked": true
    }
   },
   "outputs": [
    {
     "data": {
      "text/html": [
       "<div>\n",
       "<style scoped>\n",
       "    .dataframe tbody tr th:only-of-type {\n",
       "        vertical-align: middle;\n",
       "    }\n",
       "\n",
       "    .dataframe tbody tr th {\n",
       "        vertical-align: top;\n",
       "    }\n",
       "\n",
       "    .dataframe thead th {\n",
       "        text-align: right;\n",
       "    }\n",
       "</style>\n",
       "<table border=\"1\" class=\"dataframe\">\n",
       "  <thead>\n",
       "    <tr style=\"text-align: right;\">\n",
       "      <th></th>\n",
       "      <th>Segments</th>\n",
       "      <th>RFM_quartiles</th>\n",
       "    </tr>\n",
       "  </thead>\n",
       "  <tbody>\n",
       "    <tr>\n",
       "      <th>0</th>\n",
       "      <td>Champions</td>\n",
       "      <td>(3|4)-(3|4)-(3|4)</td>\n",
       "    </tr>\n",
       "    <tr>\n",
       "      <th>1</th>\n",
       "      <td>Loyal Customers</td>\n",
       "      <td>(3|4)-(3|4)-(1|2|3|4)</td>\n",
       "    </tr>\n",
       "    <tr>\n",
       "      <th>2</th>\n",
       "      <td>Potential Loyalist</td>\n",
       "      <td>(2|3|4)-(2|3)-(1|2|3|4)</td>\n",
       "    </tr>\n",
       "    <tr>\n",
       "      <th>3</th>\n",
       "      <td>Recent Customers</td>\n",
       "      <td>(4)-(1)-(1|2|3|4)</td>\n",
       "    </tr>\n",
       "    <tr>\n",
       "      <th>4</th>\n",
       "      <td>Customers Needing Attention</td>\n",
       "      <td>(2|3)-(2|3)-(2|3)</td>\n",
       "    </tr>\n",
       "    <tr>\n",
       "      <th>5</th>\n",
       "      <td>Still Got Hope</td>\n",
       "      <td>(2|3)-(1|2)-(1|2|3|4)</td>\n",
       "    </tr>\n",
       "    <tr>\n",
       "      <th>6</th>\n",
       "      <td>Need to Get Them Back</td>\n",
       "      <td>(1|2)-(3|4)-(2|3|4)</td>\n",
       "    </tr>\n",
       "    <tr>\n",
       "      <th>7</th>\n",
       "      <td>Give it a Try</td>\n",
       "      <td>(1|2)-(1|2|3|4)-(1|2|3|4)</td>\n",
       "    </tr>\n",
       "    <tr>\n",
       "      <th>8</th>\n",
       "      <td>Lost</td>\n",
       "      <td>(1)-(1)-(1|2|3|4)</td>\n",
       "    </tr>\n",
       "  </tbody>\n",
       "</table>\n",
       "</div>"
      ],
      "text/plain": [
       "                      Segments              RFM_quartiles\n",
       "0                    Champions          (3|4)-(3|4)-(3|4)\n",
       "1              Loyal Customers      (3|4)-(3|4)-(1|2|3|4)\n",
       "2           Potential Loyalist    (2|3|4)-(2|3)-(1|2|3|4)\n",
       "3             Recent Customers          (4)-(1)-(1|2|3|4)\n",
       "4  Customers Needing Attention          (2|3)-(2|3)-(2|3)\n",
       "5               Still Got Hope      (2|3)-(1|2)-(1|2|3|4)\n",
       "6        Need to Get Them Back        (1|2)-(3|4)-(2|3|4)\n",
       "7                Give it a Try  (1|2)-(1|2|3|4)-(1|2|3|4)\n",
       "8                         Lost          (1)-(1)-(1|2|3|4)"
      ]
     },
     "execution_count": 38,
     "metadata": {},
     "output_type": "execute_result"
    }
   ],
   "source": [
    "Segments = {\n",
    "             'Segments':\n",
    "                                ['Champions',\n",
    "                                 'Loyal Customers',\n",
    "                                 'Potential Loyalist', \n",
    "                                 'Recent Customers', \n",
    "                                 'Customers Needing Attention', \n",
    "                                 'Still Got Hope', \n",
    "                                 'Need to Get Them Back',\n",
    "                                 'Give it a Try',\n",
    "                                 'Lost'],\\\n",
    "                           'RFM_quartiles':\n",
    "                                ['(3|4)-(3|4)-(3|4)', \n",
    "                                 '(3|4)-(3|4)-(1|2|3|4)', \n",
    "                                 '(2|3|4)-(2|3)-(1|2|3|4)', \n",
    "                                 '(4)-(1)-(1|2|3|4)', \n",
    "                                 '(2|3)-(2|3)-(2|3)', \n",
    "                                 '(2|3)-(1|2)-(1|2|3|4)', \n",
    "                                 '(1|2)-(3|4)-(2|3|4)', \n",
    "                                 '(1|2)-(1|2|3|4)-(1|2|3|4)',\n",
    "                                 '(1)-(1)-(1|2|3|4)']\n",
    "            }\n",
    "pd.DataFrame(Segments)"
   ]
  },
  {
   "cell_type": "raw",
   "metadata": {},
   "source": [
    "The 'classifier' function maps each RFM quartile pattern to a specific segment according to defined conditions using if-elif statements."
   ]
  },
  {
   "cell_type": "code",
   "execution_count": 39,
   "metadata": {
    "ExecuteTime": {
     "end_time": "2023-11-23T19:08:17.637525Z",
     "start_time": "2023-11-23T19:08:17.612452Z"
    },
    "run_control": {
     "marked": true
    }
   },
   "outputs": [],
   "source": [
    "def classifier(rfm):\n",
    "    if (rfm[0] in ['3', '4'])   & (rfm[1] in ['3', '4']) & (rfm[2] in ['3', '4']):            rfm = 'Champions'\n",
    "        \n",
    "    elif (rfm[0] in ['3', '4']) & (rfm[1] in ['3', '4']) & (rfm[2] in ['1', '2', '3', '4']):  rfm = 'Loyal Customers'\n",
    "        \n",
    "    elif (rfm[0] in ['2','3','4']) & (rfm[1] in ['2','3']) & (rfm[2] in ['1','2','3', '4']):  rfm = 'Potential Loyalist'\n",
    "    \n",
    "    elif (rfm[0] in ['4'])      & (rfm[1] in ['1'])      & (rfm[2] in ['1', '2', '3', '4']):  rfm = 'Recent Customers'\n",
    "    \n",
    "    elif (rfm[0] in ['2', '3']) & (rfm[1] in ['2', '3']) & (rfm[2] in ['2', '3']):        rfm = 'Customers Needing Attention'\n",
    "    \n",
    "    elif (rfm[0] in ['2', '3']) & (rfm[1] in ['1', '2']) & (rfm[2] in ['1', '2', '3', '4']):  rfm = 'Still Got Hope'\n",
    "    \n",
    "    elif (rfm[0] in ['1', '2']) & (rfm[1] in ['3', '4']) & (rfm[2] in ['2', '3', '4']):       rfm = 'Need to Get Them Back'\n",
    "                \n",
    "    elif (rfm[0] in ['1'])      & (rfm[1] in ['1'])      & (rfm[2] in ['1', '2','3','4']):    rfm = 'Lost'\n",
    "    \n",
    "    elif (rfm[0] in ['1', '2']) & (rfm[1] in ['1','2','3','4']) & (rfm[2] in ['1','2','3','4']):rfm = 'Give it a Try'\n",
    "        \n",
    "    return rfm "
   ]
  },
  {
   "cell_type": "raw",
   "metadata": {},
   "source": [
    "The 'segmented_rfm' DataFrame, created by copying the 'rfm_quartiles' DataFrame, applies the 'classifier' function to the 'RFM_quartiles' column. This assigns a segment name to each entry based on its respective quartile pattern."
   ]
  },
  {
   "cell_type": "code",
   "execution_count": 40,
   "metadata": {
    "ExecuteTime": {
     "end_time": "2023-11-23T19:08:18.454482Z",
     "start_time": "2023-11-23T19:08:18.424180Z"
    },
    "run_control": {
     "marked": true
    }
   },
   "outputs": [],
   "source": [
    "segmented_rfm = RFM.copy()\n",
    "segmented_rfm['Segments'] = segmented_rfm[\"RFM_quartiles\"].apply(classifier)"
   ]
  },
  {
   "cell_type": "code",
   "execution_count": 41,
   "metadata": {
    "ExecuteTime": {
     "end_time": "2023-11-23T19:08:19.069385Z",
     "start_time": "2023-11-23T19:08:19.028482Z"
    },
    "cell_style": "center"
   },
   "outputs": [
    {
     "data": {
      "text/html": [
       "<div>\n",
       "<style scoped>\n",
       "    .dataframe tbody tr th:only-of-type {\n",
       "        vertical-align: middle;\n",
       "    }\n",
       "\n",
       "    .dataframe tbody tr th {\n",
       "        vertical-align: top;\n",
       "    }\n",
       "\n",
       "    .dataframe thead th {\n",
       "        text-align: right;\n",
       "    }\n",
       "</style>\n",
       "<table border=\"1\" class=\"dataframe\">\n",
       "  <thead>\n",
       "    <tr style=\"text-align: right;\">\n",
       "      <th></th>\n",
       "      <th>recency</th>\n",
       "      <th>frequency</th>\n",
       "      <th>monetary</th>\n",
       "      <th>r_quartile</th>\n",
       "      <th>f_quartile</th>\n",
       "      <th>m_quartile</th>\n",
       "      <th>RFM_quartiles</th>\n",
       "      <th>Segments</th>\n",
       "    </tr>\n",
       "    <tr>\n",
       "      <th>CustomerID</th>\n",
       "      <th></th>\n",
       "      <th></th>\n",
       "      <th></th>\n",
       "      <th></th>\n",
       "      <th></th>\n",
       "      <th></th>\n",
       "      <th></th>\n",
       "      <th></th>\n",
       "    </tr>\n",
       "  </thead>\n",
       "  <tbody>\n",
       "    <tr>\n",
       "      <th>14250</th>\n",
       "      <td>6</td>\n",
       "      <td>111</td>\n",
       "      <td>1904.05</td>\n",
       "      <td>4</td>\n",
       "      <td>4</td>\n",
       "      <td>4</td>\n",
       "      <td>444</td>\n",
       "      <td>Champions</td>\n",
       "    </tr>\n",
       "    <tr>\n",
       "      <th>13110</th>\n",
       "      <td>30</td>\n",
       "      <td>145</td>\n",
       "      <td>1488.67</td>\n",
       "      <td>3</td>\n",
       "      <td>4</td>\n",
       "      <td>3</td>\n",
       "      <td>343</td>\n",
       "      <td>Champions</td>\n",
       "    </tr>\n",
       "    <tr>\n",
       "      <th>13332</th>\n",
       "      <td>13</td>\n",
       "      <td>21</td>\n",
       "      <td>350.90</td>\n",
       "      <td>4</td>\n",
       "      <td>2</td>\n",
       "      <td>2</td>\n",
       "      <td>422</td>\n",
       "      <td>Potential Loyalist</td>\n",
       "    </tr>\n",
       "    <tr>\n",
       "      <th>16003</th>\n",
       "      <td>29</td>\n",
       "      <td>103</td>\n",
       "      <td>2735.37</td>\n",
       "      <td>3</td>\n",
       "      <td>4</td>\n",
       "      <td>4</td>\n",
       "      <td>344</td>\n",
       "      <td>Champions</td>\n",
       "    </tr>\n",
       "    <tr>\n",
       "      <th>15584</th>\n",
       "      <td>23</td>\n",
       "      <td>122</td>\n",
       "      <td>720.86</td>\n",
       "      <td>3</td>\n",
       "      <td>4</td>\n",
       "      <td>3</td>\n",
       "      <td>343</td>\n",
       "      <td>Champions</td>\n",
       "    </tr>\n",
       "    <tr>\n",
       "      <th>17419</th>\n",
       "      <td>10</td>\n",
       "      <td>206</td>\n",
       "      <td>4226.57</td>\n",
       "      <td>4</td>\n",
       "      <td>4</td>\n",
       "      <td>4</td>\n",
       "      <td>444</td>\n",
       "      <td>Champions</td>\n",
       "    </tr>\n",
       "    <tr>\n",
       "      <th>12380</th>\n",
       "      <td>21</td>\n",
       "      <td>104</td>\n",
       "      <td>2724.81</td>\n",
       "      <td>3</td>\n",
       "      <td>4</td>\n",
       "      <td>4</td>\n",
       "      <td>344</td>\n",
       "      <td>Champions</td>\n",
       "    </tr>\n",
       "    <tr>\n",
       "      <th>12956</th>\n",
       "      <td>305</td>\n",
       "      <td>19</td>\n",
       "      <td>108.07</td>\n",
       "      <td>1</td>\n",
       "      <td>2</td>\n",
       "      <td>1</td>\n",
       "      <td>121</td>\n",
       "      <td>Give it a Try</td>\n",
       "    </tr>\n",
       "    <tr>\n",
       "      <th>12577</th>\n",
       "      <td>34</td>\n",
       "      <td>146</td>\n",
       "      <td>626.60</td>\n",
       "      <td>3</td>\n",
       "      <td>4</td>\n",
       "      <td>2</td>\n",
       "      <td>342</td>\n",
       "      <td>Loyal Customers</td>\n",
       "    </tr>\n",
       "    <tr>\n",
       "      <th>14150</th>\n",
       "      <td>35</td>\n",
       "      <td>26</td>\n",
       "      <td>658.64</td>\n",
       "      <td>3</td>\n",
       "      <td>2</td>\n",
       "      <td>2</td>\n",
       "      <td>322</td>\n",
       "      <td>Potential Loyalist</td>\n",
       "    </tr>\n",
       "    <tr>\n",
       "      <th>15667</th>\n",
       "      <td>39</td>\n",
       "      <td>13</td>\n",
       "      <td>301.32</td>\n",
       "      <td>3</td>\n",
       "      <td>1</td>\n",
       "      <td>1</td>\n",
       "      <td>311</td>\n",
       "      <td>Still Got Hope</td>\n",
       "    </tr>\n",
       "    <tr>\n",
       "      <th>14624</th>\n",
       "      <td>56</td>\n",
       "      <td>13</td>\n",
       "      <td>225.85</td>\n",
       "      <td>2</td>\n",
       "      <td>1</td>\n",
       "      <td>1</td>\n",
       "      <td>211</td>\n",
       "      <td>Still Got Hope</td>\n",
       "    </tr>\n",
       "    <tr>\n",
       "      <th>17603</th>\n",
       "      <td>77</td>\n",
       "      <td>11</td>\n",
       "      <td>394.72</td>\n",
       "      <td>2</td>\n",
       "      <td>1</td>\n",
       "      <td>2</td>\n",
       "      <td>212</td>\n",
       "      <td>Still Got Hope</td>\n",
       "    </tr>\n",
       "    <tr>\n",
       "      <th>17855</th>\n",
       "      <td>372</td>\n",
       "      <td>17</td>\n",
       "      <td>208.97</td>\n",
       "      <td>1</td>\n",
       "      <td>2</td>\n",
       "      <td>1</td>\n",
       "      <td>121</td>\n",
       "      <td>Give it a Try</td>\n",
       "    </tr>\n",
       "    <tr>\n",
       "      <th>17760</th>\n",
       "      <td>21</td>\n",
       "      <td>25</td>\n",
       "      <td>287.59</td>\n",
       "      <td>3</td>\n",
       "      <td>2</td>\n",
       "      <td>1</td>\n",
       "      <td>321</td>\n",
       "      <td>Potential Loyalist</td>\n",
       "    </tr>\n",
       "  </tbody>\n",
       "</table>\n",
       "</div>"
      ],
      "text/plain": [
       "            recency  frequency  monetary r_quartile f_quartile m_quartile  \\\n",
       "CustomerID                                                                  \n",
       "14250             6        111   1904.05          4          4          4   \n",
       "13110            30        145   1488.67          3          4          3   \n",
       "13332            13         21    350.90          4          2          2   \n",
       "16003            29        103   2735.37          3          4          4   \n",
       "15584            23        122    720.86          3          4          3   \n",
       "17419            10        206   4226.57          4          4          4   \n",
       "12380            21        104   2724.81          3          4          4   \n",
       "12956           305         19    108.07          1          2          1   \n",
       "12577            34        146    626.60          3          4          2   \n",
       "14150            35         26    658.64          3          2          2   \n",
       "15667            39         13    301.32          3          1          1   \n",
       "14624            56         13    225.85          2          1          1   \n",
       "17603            77         11    394.72          2          1          2   \n",
       "17855           372         17    208.97          1          2          1   \n",
       "17760            21         25    287.59          3          2          1   \n",
       "\n",
       "           RFM_quartiles            Segments  \n",
       "CustomerID                                    \n",
       "14250                444           Champions  \n",
       "13110                343           Champions  \n",
       "13332                422  Potential Loyalist  \n",
       "16003                344           Champions  \n",
       "15584                343           Champions  \n",
       "17419                444           Champions  \n",
       "12380                344           Champions  \n",
       "12956                121       Give it a Try  \n",
       "12577                342     Loyal Customers  \n",
       "14150                322  Potential Loyalist  \n",
       "15667                311      Still Got Hope  \n",
       "14624                211      Still Got Hope  \n",
       "17603                212      Still Got Hope  \n",
       "17855                121       Give it a Try  \n",
       "17760                321  Potential Loyalist  "
      ]
     },
     "execution_count": 41,
     "metadata": {},
     "output_type": "execute_result"
    }
   ],
   "source": [
    "segmented_rfm.sample(15)"
   ]
  },
  {
   "cell_type": "raw",
   "metadata": {},
   "source": [
    "So, by segmenting our customers, we've finalized our RFM Table. With this table in hand, we can conduct detailed analyses and gain various insights."
   ]
  },
  {
   "cell_type": "raw",
   "metadata": {},
   "source": [
    "In practice, we can employ different codes serving the same purpose. Below is an example using a regex function for customer segmentation based solely on recency and frequency metrics using 5 quartiles."
   ]
  },
  {
   "cell_type": "raw",
   "metadata": {
    "run_control": {
     "marked": true
    }
   },
   "source": [
    "# ALTERNATIVE CODE: Creating 5 quartiles based on recency and frequency metrics, excluding monetary.\n",
    "\n",
    "[r][f]_quartiles_of_segments = \n",
    "\n",
    "  {    \n",
    "    r'[1-2][1-2]': 'Hibernating',\n",
    "    r'[1-2][3-4]': 'At_Risk',\n",
    "    r'[1-2]5'    : 'Cant_Loose',\n",
    "    r'3[1-2]'    : 'About_to_Sleep',\n",
    "    r'33'        : 'Need_Attention',\n",
    "    r'[3-4][4-5]': 'Loyal_Customers',\n",
    "    r'41'        : 'Promising',\n",
    "    r'51'        : 'New_Customers',\n",
    "    r'[4-5][2-3]': 'Potential_Loyalists',\n",
    "    r'5[4-5]'    : 'Champions'\n",
    "   }\n",
    "\n",
    "rfm_q['Segment'] = rfm_q['r_quartile'].astype(str) + rfm_q['f_quartile'].astype(str)\n",
    "rfm_q['Segment'] = rfm_q['Segment'].replace([r][f]_quartiles_of_segments, regex=True)"
   ]
  },
  {
   "cell_type": "raw",
   "metadata": {},
   "source": [
    "Once we've segmented our customers, we can see how many customers fall into each segment, develop specific strategies for each segment, and focus on a particular group."
   ]
  },
  {
   "cell_type": "code",
   "execution_count": 42,
   "metadata": {
    "ExecuteTime": {
     "end_time": "2023-11-23T19:08:36.375514Z",
     "start_time": "2023-11-23T19:08:36.354733Z"
    },
    "cell_style": "center",
    "run_control": {
     "marked": true
    },
    "scrolled": true
   },
   "outputs": [
    {
     "data": {
      "text/plain": [
       "Champions                1298\n",
       "Potential Loyalist       1022\n",
       "Lost                      509\n",
       "Still Got Hope            466\n",
       "Give it a Try             391\n",
       "Need to Get Them Back     341\n",
       "Loyal Customers           202\n",
       "Recent Customers          110\n",
       "Name: Segments, dtype: int64"
      ]
     },
     "execution_count": 42,
     "metadata": {},
     "output_type": "execute_result"
    }
   ],
   "source": [
    "segmented_rfm[\"Segments\"].value_counts(dropna=False)"
   ]
  },
  {
   "cell_type": "raw",
   "metadata": {},
   "source": [
    "Besides checking whether we've made a sound grouping by looking at the averages of each group's RFM attributes, we can also gather information about each group's shopping behavior."
   ]
  },
  {
   "cell_type": "code",
   "execution_count": 43,
   "metadata": {
    "ExecuteTime": {
     "end_time": "2023-11-23T19:10:09.335823Z",
     "start_time": "2023-11-23T19:10:09.276734Z"
    },
    "cell_style": "center",
    "run_control": {
     "marked": true
    },
    "scrolled": true
   },
   "outputs": [
    {
     "data": {
      "text/html": [
       "<div>\n",
       "<style scoped>\n",
       "    .dataframe tbody tr th:only-of-type {\n",
       "        vertical-align: middle;\n",
       "    }\n",
       "\n",
       "    .dataframe tbody tr th {\n",
       "        vertical-align: top;\n",
       "    }\n",
       "\n",
       "    .dataframe thead tr th {\n",
       "        text-align: left;\n",
       "    }\n",
       "\n",
       "    .dataframe thead tr:last-of-type th {\n",
       "        text-align: right;\n",
       "    }\n",
       "</style>\n",
       "<table border=\"1\" class=\"dataframe\">\n",
       "  <thead>\n",
       "    <tr>\n",
       "      <th></th>\n",
       "      <th>recency</th>\n",
       "      <th>frequency</th>\n",
       "      <th colspan=\"2\" halign=\"left\">monetary</th>\n",
       "    </tr>\n",
       "    <tr>\n",
       "      <th></th>\n",
       "      <th>mean</th>\n",
       "      <th>mean</th>\n",
       "      <th>mean</th>\n",
       "      <th>count</th>\n",
       "    </tr>\n",
       "    <tr>\n",
       "      <th>Segments</th>\n",
       "      <th></th>\n",
       "      <th></th>\n",
       "      <th></th>\n",
       "      <th></th>\n",
       "    </tr>\n",
       "  </thead>\n",
       "  <tbody>\n",
       "    <tr>\n",
       "      <th>Champions</th>\n",
       "      <td>16.4</td>\n",
       "      <td>212.9</td>\n",
       "      <td>4928.1</td>\n",
       "      <td>1298</td>\n",
       "    </tr>\n",
       "    <tr>\n",
       "      <th>Give it a Try</th>\n",
       "      <td>245.5</td>\n",
       "      <td>28.9</td>\n",
       "      <td>438.9</td>\n",
       "      <td>391</td>\n",
       "    </tr>\n",
       "    <tr>\n",
       "      <th>Lost</th>\n",
       "      <td>256.7</td>\n",
       "      <td>8.4</td>\n",
       "      <td>589.7</td>\n",
       "      <td>509</td>\n",
       "    </tr>\n",
       "    <tr>\n",
       "      <th>Loyal Customers</th>\n",
       "      <td>21.8</td>\n",
       "      <td>77.5</td>\n",
       "      <td>442.9</td>\n",
       "      <td>202</td>\n",
       "    </tr>\n",
       "    <tr>\n",
       "      <th>Need to Get Them Back</th>\n",
       "      <td>152.1</td>\n",
       "      <td>119.6</td>\n",
       "      <td>1845.4</td>\n",
       "      <td>341</td>\n",
       "    </tr>\n",
       "    <tr>\n",
       "      <th>Potential Loyalist</th>\n",
       "      <td>60.1</td>\n",
       "      <td>38.2</td>\n",
       "      <td>854.9</td>\n",
       "      <td>1022</td>\n",
       "    </tr>\n",
       "    <tr>\n",
       "      <th>Recent Customers</th>\n",
       "      <td>9.1</td>\n",
       "      <td>9.2</td>\n",
       "      <td>2135.6</td>\n",
       "      <td>110</td>\n",
       "    </tr>\n",
       "    <tr>\n",
       "      <th>Still Got Hope</th>\n",
       "      <td>65.7</td>\n",
       "      <td>9.2</td>\n",
       "      <td>410.7</td>\n",
       "      <td>466</td>\n",
       "    </tr>\n",
       "  </tbody>\n",
       "</table>\n",
       "</div>"
      ],
      "text/plain": [
       "                      recency frequency monetary      \n",
       "                         mean      mean     mean count\n",
       "Segments                                              \n",
       "Champions                16.4     212.9   4928.1  1298\n",
       "Give it a Try           245.5      28.9    438.9   391\n",
       "Lost                    256.7       8.4    589.7   509\n",
       "Loyal Customers          21.8      77.5    442.9   202\n",
       "Need to Get Them Back   152.1     119.6   1845.4   341\n",
       "Potential Loyalist       60.1      38.2    854.9  1022\n",
       "Recent Customers          9.1       9.2   2135.6   110\n",
       "Still Got Hope           65.7       9.2    410.7   466"
      ]
     },
     "execution_count": 43,
     "metadata": {},
     "output_type": "execute_result"
    }
   ],
   "source": [
    "segmented_rfm.groupby('Segments').agg({'recency':'mean','frequency':'mean',\n",
    "                                    'monetary':['mean','count']}).round(1)"
   ]
  },
  {
   "cell_type": "raw",
   "metadata": {},
   "source": [
    "Using various libraries' plotting techniques, we can quickly gain insights into our customer portfolio."
   ]
  },
  {
   "cell_type": "code",
   "execution_count": 44,
   "metadata": {
    "ExecuteTime": {
     "end_time": "2023-11-23T19:10:18.901457Z",
     "start_time": "2023-11-23T19:10:18.046264Z"
    }
   },
   "outputs": [
    {
     "data": {
      "image/png": "[encoded data removed]",
      "text/plain": [
       "<Figure size 2000x800 with 1 Axes>"
      ]
     },
     "metadata": {},
     "output_type": "display_data"
    }
   ],
   "source": [
    "plt.figure(figsize=(20, 8))\n",
    "ax=segmented_rfm[\"Segments\"].value_counts().plot.bar()\n",
    "plt.title(\"LABELLING THE CUSTOMERS BY SEGMENTS\", fontsize=16)\n",
    "# ax=rfm.groupby(['Segments']).size().sort_values(ascending=False).plot.bar()\n",
    "for p in ax.containers:\n",
    "    ax.bar_label(p, fmt=\"%.0f\", fontsize=14)\n",
    "plt.xticks(rotation = 60, fontsize=14);"
   ]
  },
  {
   "cell_type": "code",
   "execution_count": 45,
   "metadata": {
    "ExecuteTime": {
     "end_time": "2023-11-23T19:10:21.340278Z",
     "start_time": "2023-11-23T19:10:21.333627Z"
    }
   },
   "outputs": [],
   "source": [
    "# pip install squarify"
   ]
  },
  {
   "cell_type": "code",
   "execution_count": 46,
   "metadata": {},
   "outputs": [
    {
     "data": {
      "image/png": "[encoded data removed]",
      "text/plain": [
       "<Figure size 1600x900 with 1 Axes>"
      ]
     },
     "metadata": {},
     "output_type": "display_data"
    }
   ],
   "source": [
    "import squarify\n",
    "fig = plt.gcf()\n",
    "ax = fig.add_subplot()\n",
    "fig.set_size_inches(16, 9)\n",
    "squarify.plot(sizes=list(segmented_rfm[\"Segments\"].value_counts().values), \n",
    "              label=list(segmented_rfm[\"Segments\"].value_counts().index), alpha=0.7,\n",
    "              text_kwargs={'fontsize':14})\n",
    "plt.title(\"RFM Segments\", fontsize=20, fontweight=\"bold\")\n",
    "plt.axis('off')\n",
    "plt.show()"
   ]
  },
  {
   "cell_type": "markdown",
   "metadata": {},
   "source": [
    "## Alternative code snippets for RFM Analysis"
   ]
  },
  {
   "cell_type": "code",
   "execution_count": null,
   "metadata": {},
   "outputs": [],
   "source": [
    "import datetime as dt\n",
    "\n",
    "# Create a TotalSales Column if there is not in the data set:\n",
    "# df[\"Revenue\"] = df[\"UnitPrice\"] * df[\"Quantity\"]\n",
    "\n",
    "NOW = df['InvoiceDate'].max()\n",
    "\n",
    "# Calculate RFM values and rename columns\n",
    "RFM_Table = df.groupby('CustomerID').agg(recency   = ('InvoiceDate', lambda x: (NOW - x.max()).days),\n",
    "                                        frequency = ('InvoiceNo', 'count'),\n",
    "                                        monetary  = ('Revenue', 'sum') \n",
    "                                       ).astype({'recency': int})\n",
    "\n",
    "# Define R and FM Segmneting Functions:\n",
    "def R_Segmenting(x,p,d):             \n",
    "    if   x <= d[p][0.25]:   return 4               \n",
    "    elif x <= d[p][0.50]:   return 3\n",
    "    elif x <= d[p][0.75]:   return 2\n",
    "    else                :   return 1\n",
    "    \n",
    "def FM_Segmenting(x,p,d):\n",
    "    if   x <= d[p][0.25]:   return 1\n",
    "    elif x <= d[p][0.50]:   return 2\n",
    "    elif x <= d[p][0.75]:   return 3\n",
    "    else                :   return 4\n",
    "\n",
    "# Alternative code for functions:    \n",
    "# def RScore(x, p, d):return next((score for score, percentile in enumerate([0.25,0.5,0.75,1], 1) if x <= d[p][percentile]),1)\n",
    "# def FMScore(x, p, d):return next((score for score, percentile in enumerate([0.25,0.5,0.75,1], 1) if x <= d[p][percentile]),4)\n",
    "\n",
    "\n",
    "# Calculate R and FM quartiles and add as new columns\n",
    "quantiles = RFM_Table.quantile(q=[0.25, 0.5, 0.75]).to_dict()\n",
    "rfm_q = RFM_Table.copy()\n",
    "rfm_q['r_quartile'] = rfm_q['recency'].  apply(R_Segmenting,  args=('recency',   quantiles,))\n",
    "rfm_q['f_quartile'] = rfm_q['frequency'].apply(FM_Segmenting, args=('frequency', quantiles,))\n",
    "rfm_q['m_quartile'] = rfm_q['monetary']. apply(FM_Segmenting, args=('monetary',  quantiles,))\n",
    "\n",
    "# Create RFM_quartiles column\n",
    "RFM = rfm_q.copy()\n",
    "RFM['RFM_quartiles'] = RFM.r_quartile.map(str)+\\                # RFM.r_quartile.astype(str) + \\\n",
    "                       RFM.f_quartile.map(str)+\\\n",
    "                       RFM.m_quartile.map(str)"
   ]
  },
  {
   "cell_type": "raw",
   "metadata": {
    "run_control": {
     "marked": true
    }
   },
   "source": [
    "Here, we'll utilize the `quantile()` function. Once these division thresholds are identified, we'll store them in a dictionary. \n",
    "Initially, the code computes the quartiles (at 25%, 50%, and 75%) for each RFM metric (recency, frequency, monetary) using the `quantile()` function. \n",
    "This function splits the data into four equal parts, defining the threshold values for segmentation.\n",
    "quantiles = {'recency':    {0.25: 17,   \t0.50:   50,   \t0.75: 141},\n",
    "             'frequency': {0.25: 17,  \t0.50:   41,   \t0.75: 100},\n",
    "             'monetary': {0.25: 307,  \t0.50: 674,  \t0.75: 1661}}\n",
    "             \n",
    "Following this, by implementing a custom segmenting function, we'll apply these thresholds to each RFM column, categorizing the segments as 1-2-3-4.\n",
    "\n",
    "Two functions, `R_Segmenting` and `FM_Segmenting`, are created to assign quartile scores to customers based on their RFM metrics. These functions compare a customer's RFM value to the quartile thresholds and allocate a score from 1 to 4, determining the segment the customer falls into.\n",
    "\n",
    "The purpose of these functions is to assign a score to a customer based on their value (x) relative to the quantile values stored in the d dictionary. The scores are assigned based on quartiles: 4 for the highest quartile, 3 for the second quartile, 2 for the third quartile, and 1 for the lowest quartile.\n",
    "\n",
    "These functions take three parameters: x, p, and d.  \n",
    "x represents the value of either recency, frequency, or monetary for a specific customer. \n",
    "p is a string that indicates which attribute we are scoring (e.g., 'recency', 'frequency', or 'monetary').\n",
    "d is a dictionary containing quantile values for the recency, frequency, and monetary attributes. These quantile values will be used for scoring.\n",
    "\n",
    "Finally, we will apply these segmenting (quartile) functions to the columns of our RFM_Table. "
   ]
  },
  {
   "cell_type": "raw",
   "metadata": {},
   "source": [
    "Quantiles is calculated by using the .quantile() method on an existing DataFrame named RFM_Table. It calculates the 25th, 50th (median), and 75th percentiles for the 'recency', 'frequency', and 'monetary' attributes and stores the result as a dictionary.\n",
    "\n",
    "Three new columns are added to the RFM_Table DataFrame: 'r_quartile', 'f_quartile', and 'm_quartile'. These columns will contain the quartile scores for each customer's recency, frequency, and monetary values, respectively.\n",
    "\n",
    "The .apply() method is used to apply the R_Segmenting and FM_Segmenting functions to the 'recency', 'frequency', and 'monetary' columns of the RFM_Table DataFrame. The args parameter is used to pass the attribute name ('recency', 'frequency', or 'monetary') and the quantiles dictionary to the scoring functions. The result of these calculations is stored in the corresponding 'r_quartile', 'f_quartile', and 'm_quartile' columns in the DataFrame."
   ]
  },
  {
   "cell_type": "code",
   "execution_count": null,
   "metadata": {},
   "outputs": [],
   "source": []
  },
  {
   "cell_type": "raw",
   "metadata": {},
   "source": [
    "# ALTERNATVE CODE TO ADD QUARTILES TO RFM_TABLE:\n",
    "\n",
    "rfm_q = RFM_Table.copy()\n",
    "\n",
    "# create labels and assign them to four quartile groups \n",
    "r_labels = range(4, 0, -1)\n",
    "r_quartiles = pd.qcut(rfm_q.recency, q = 4, labels = r_labels)\n",
    "\n",
    "f_labels = range(1, 5)\n",
    "f_quartiles = pd.qcut(rfm_q.frequency, q = 4, labels = f_labels)               \n",
    "\n",
    "m_labels = range(1, 5)\n",
    "m_quartiles = pd.qcut(rfm_q.Monetary, q = 4, labels = m_labels)\n",
    "\n",
    "rfm_q = rfm_q.assign(r_quartile=r_quartiles, f_quartile=f_quartiles, m_quartile=m_quartiles)"
   ]
  },
  {
   "cell_type": "raw",
   "metadata": {
    "code_folding": [],
    "run_control": {
     "marked": true
    }
   },
   "source": [
    "# Cutting RFM metrics into 5 groups and labeling them:\n",
    "rfm_q[\"r_quartile\"] = pd.qcut(rfm_q[\"recency\"], 5, labels=[5, 4, 3, 2, 1])\n",
    "rfm_q[\"f_quartile\"] = pd.qcut(rfm_q[\"frequency\"].rank(method=\"first\"), 5, labels=[1, 2, 3, 4, 5])\n",
    "rfm_q[\"m_quartile\"] = pd.qcut(rfm_q[\"monetary\"], 5, labels=[1, 2, 3, 4, 5])"
   ]
  },
  {
   "cell_type": "markdown",
   "metadata": {},
   "source": [
    "                                                                                                     Ahmet Yüce       \n",
    "                                                                                                     Data Scientist"
   ]
  },
  {
   "cell_type": "code",
   "execution_count": null,
   "metadata": {},
   "outputs": [],
   "source": []
  }
 ],
 "metadata": {
  "hide_input": false,
  "kernelspec": {
   "display_name": "Python 3 (ipykernel)",
   "language": "python",
   "name": "python3"
  },
  "language_info": {
   "codemirror_mode": {
    "name": "ipython",
    "version": 3
   },
   "file_extension": ".py",
   "mimetype": "text/x-python",
   "name": "python",
   "nbconvert_exporter": "python",
   "pygments_lexer": "ipython3",
   "version": "3.11.4"
  },
  "nbTranslate": {
   "displayLangs": [
    "*"
   ],
   "hotkey": "alt-t",
   "langInMainMenu": true,
   "sourceLang": "en",
   "targetLang": "fr",
   "useGoogleTranslate": true
  },
  "toc": {
   "base_numbering": 1,
   "nav_menu": {},
   "number_sections": true,
   "sideBar": true,
   "skip_h1_title": false,
   "title_cell": "Table of Contents",
   "title_sidebar": "Contents",
   "toc_cell": true,
   "toc_position": {},
   "toc_section_display": true,
   "toc_window_display": false
  },
  "varInspector": {
   "cols": {
    "lenName": 16,
    "lenType": 16,
    "lenVar": 40
   },
   "kernels_config": {
    "python": {
     "delete_cmd_postfix": "",
     "delete_cmd_prefix": "del ",
     "library": "var_list.py",
     "varRefreshCmd": "print(var_dic_list())"
    },
    "r": {
     "delete_cmd_postfix": ") ",
     "delete_cmd_prefix": "rm(",
     "library": "var_list.r",
     "varRefreshCmd": "cat(var_dic_list()) "
    }
   },
   "types_to_exclude": [
    "module",
    "function",
    "builtin_function_or_method",
    "instance",
    "_Feature"
   ],
   "window_display": false
  }
 },
 "nbformat": 4,
 "nbformat_minor": 1
}
